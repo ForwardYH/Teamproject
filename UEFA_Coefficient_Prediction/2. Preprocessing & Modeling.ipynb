{
 "cells": [
  {
   "cell_type": "code",
   "execution_count": 43,
   "metadata": {
    "collapsed": false
   },
   "outputs": [
    {
     "name": "stderr",
     "output_type": "stream",
     "text": [
      "/home/dockeruser/anaconda2/envs/gl-env/lib/python2.7/site-packages/sklearn/cross_validation.py:44: DeprecationWarning: This module was deprecated in version 0.18 in favor of the model_selection module into which all the refactored classes and functions are moved. Also note that the interface of the new CV iterators are different from that of this module. This module will be removed in 0.20.\n",
      "  \"This module will be removed in 0.20.\", DeprecationWarning)\n"
     ]
    }
   ],
   "source": [
    "import numpy as np\n",
    "import pandas as pd\n",
    "import statsmodels.api as sm\n",
    "from sklearn.preprocessing import scale, robust_scale\n",
    "from sklearn.decomposition import PCA\n",
    "from sklearn.cross_validation import KFold, cross_val_score\n",
    "%matplotlib inline"
   ]
  },
  {
   "cell_type": "markdown",
   "metadata": {},
   "source": [
    "### 2. Preprocessing & Modeling\n",
    "\n",
    "1. Scale\n",
    "2. Robust Scale\n",
    "3. Feature Engineering, 데이터마다 각각 전처리 다르게 적용\n",
    "4. PCA\n"
   ]
  },
  {
   "cell_type": "code",
   "execution_count": 4,
   "metadata": {
    "collapsed": false
   },
   "outputs": [
    {
     "data": {
      "text/html": [
       "<div>\n",
       "<table border=\"1\" class=\"dataframe\">\n",
       "  <thead>\n",
       "    <tr style=\"text-align: right;\">\n",
       "      <th></th>\n",
       "      <th>Season</th>\n",
       "      <th>NAT</th>\n",
       "      <th>Club_Name</th>\n",
       "      <th>TSR</th>\n",
       "      <th>STR</th>\n",
       "      <th>PDO</th>\n",
       "      <th>Pass_Success</th>\n",
       "      <th>Possesion</th>\n",
       "      <th>Team_Value</th>\n",
       "      <th>AGE</th>\n",
       "      <th>FPPsq</th>\n",
       "      <th>Country Score</th>\n",
       "      <th>Rating</th>\n",
       "      <th>Pts</th>\n",
       "    </tr>\n",
       "  </thead>\n",
       "  <tbody>\n",
       "    <tr>\n",
       "      <th>476</th>\n",
       "      <td>1516</td>\n",
       "      <td>GER</td>\n",
       "      <td>Wolfsburg</td>\n",
       "      <td>0.551852</td>\n",
       "      <td>0.560662</td>\n",
       "      <td>893.8322</td>\n",
       "      <td>0.820588</td>\n",
       "      <td>0.578824</td>\n",
       "      <td>7.58</td>\n",
       "      <td>24.5</td>\n",
       "      <td>0.542857</td>\n",
       "      <td>79.415</td>\n",
       "      <td>6.85</td>\n",
       "      <td>56.035</td>\n",
       "    </tr>\n",
       "    <tr>\n",
       "      <th>477</th>\n",
       "      <td>1516</td>\n",
       "      <td>GER</td>\n",
       "      <td>Eintracht Frankfurt</td>\n",
       "      <td>0.458194</td>\n",
       "      <td>0.439859</td>\n",
       "      <td>953.9767</td>\n",
       "      <td>0.721765</td>\n",
       "      <td>0.471765</td>\n",
       "      <td>2.50</td>\n",
       "      <td>23.9</td>\n",
       "      <td>0.571429</td>\n",
       "      <td>79.415</td>\n",
       "      <td>6.69</td>\n",
       "      <td>28.035</td>\n",
       "    </tr>\n",
       "    <tr>\n",
       "      <th>478</th>\n",
       "      <td>1516</td>\n",
       "      <td>GER</td>\n",
       "      <td>Borussia</td>\n",
       "      <td>0.493404</td>\n",
       "      <td>0.536775</td>\n",
       "      <td>949.0774</td>\n",
       "      <td>0.795152</td>\n",
       "      <td>0.556667</td>\n",
       "      <td>4.81</td>\n",
       "      <td>24.4</td>\n",
       "      <td>0.586207</td>\n",
       "      <td>79.415</td>\n",
       "      <td>6.94</td>\n",
       "      <td>42.035</td>\n",
       "    </tr>\n",
       "    <tr>\n",
       "      <th>479</th>\n",
       "      <td>1516</td>\n",
       "      <td>GER</td>\n",
       "      <td>Mainz 05</td>\n",
       "      <td>0.445851</td>\n",
       "      <td>0.466027</td>\n",
       "      <td>946.8986</td>\n",
       "      <td>0.720000</td>\n",
       "      <td>0.461471</td>\n",
       "      <td>1.73</td>\n",
       "      <td>24.3</td>\n",
       "      <td>0.564103</td>\n",
       "      <td>79.415</td>\n",
       "      <td>6.84</td>\n",
       "      <td>18.035</td>\n",
       "    </tr>\n",
       "    <tr>\n",
       "      <th>480</th>\n",
       "      <td>1516</td>\n",
       "      <td>GER</td>\n",
       "      <td>Augsburg</td>\n",
       "      <td>0.437485</td>\n",
       "      <td>0.446503</td>\n",
       "      <td>1082.3060</td>\n",
       "      <td>0.747647</td>\n",
       "      <td>0.468824</td>\n",
       "      <td>1.60</td>\n",
       "      <td>24.9</td>\n",
       "      <td>0.512821</td>\n",
       "      <td>79.415</td>\n",
       "      <td>6.80</td>\n",
       "      <td>23.035</td>\n",
       "    </tr>\n",
       "  </tbody>\n",
       "</table>\n",
       "</div>"
      ],
      "text/plain": [
       "     Season  NAT            Club_Name       TSR       STR        PDO  \\\n",
       "476    1516  GER            Wolfsburg  0.551852  0.560662   893.8322   \n",
       "477    1516  GER  Eintracht Frankfurt  0.458194  0.439859   953.9767   \n",
       "478    1516  GER             Borussia  0.493404  0.536775   949.0774   \n",
       "479    1516  GER             Mainz 05  0.445851  0.466027   946.8986   \n",
       "480    1516  GER             Augsburg  0.437485  0.446503  1082.3060   \n",
       "\n",
       "     Pass_Success  Possesion  Team_Value   AGE     FPPsq  Country Score  \\\n",
       "476      0.820588   0.578824        7.58  24.5  0.542857         79.415   \n",
       "477      0.721765   0.471765        2.50  23.9  0.571429         79.415   \n",
       "478      0.795152   0.556667        4.81  24.4  0.586207         79.415   \n",
       "479      0.720000   0.461471        1.73  24.3  0.564103         79.415   \n",
       "480      0.747647   0.468824        1.60  24.9  0.512821         79.415   \n",
       "\n",
       "     Rating     Pts  \n",
       "476    6.85  56.035  \n",
       "477    6.69  28.035  \n",
       "478    6.94  42.035  \n",
       "479    6.84  18.035  \n",
       "480    6.80  23.035  "
      ]
     },
     "execution_count": 4,
     "metadata": {},
     "output_type": "execute_result"
    }
   ],
   "source": [
    "# Load the Dataset\n",
    "X = pd.read_csv('train.csv')\n",
    "\n",
    "X.tail()"
   ]
  },
  {
   "cell_type": "code",
   "execution_count": 5,
   "metadata": {
    "collapsed": false
   },
   "outputs": [
    {
     "data": {
      "text/html": [
       "<div>\n",
       "<table border=\"1\" class=\"dataframe\">\n",
       "  <thead>\n",
       "    <tr style=\"text-align: right;\">\n",
       "      <th></th>\n",
       "      <th>TSR</th>\n",
       "      <th>STR</th>\n",
       "      <th>PDO</th>\n",
       "      <th>Pass_Success</th>\n",
       "      <th>Possesion</th>\n",
       "      <th>Team_Value</th>\n",
       "      <th>AGE</th>\n",
       "      <th>FPPsq</th>\n",
       "      <th>Country Score</th>\n",
       "      <th>Rating</th>\n",
       "      <th>Pts</th>\n",
       "    </tr>\n",
       "  </thead>\n",
       "  <tbody>\n",
       "    <tr>\n",
       "      <th>476</th>\n",
       "      <td>0.551852</td>\n",
       "      <td>0.560662</td>\n",
       "      <td>893.8322</td>\n",
       "      <td>0.820588</td>\n",
       "      <td>0.578824</td>\n",
       "      <td>7.58</td>\n",
       "      <td>24.5</td>\n",
       "      <td>0.542857</td>\n",
       "      <td>79.415</td>\n",
       "      <td>6.85</td>\n",
       "      <td>56.035</td>\n",
       "    </tr>\n",
       "    <tr>\n",
       "      <th>477</th>\n",
       "      <td>0.458194</td>\n",
       "      <td>0.439859</td>\n",
       "      <td>953.9767</td>\n",
       "      <td>0.721765</td>\n",
       "      <td>0.471765</td>\n",
       "      <td>2.50</td>\n",
       "      <td>23.9</td>\n",
       "      <td>0.571429</td>\n",
       "      <td>79.415</td>\n",
       "      <td>6.69</td>\n",
       "      <td>28.035</td>\n",
       "    </tr>\n",
       "    <tr>\n",
       "      <th>478</th>\n",
       "      <td>0.493404</td>\n",
       "      <td>0.536775</td>\n",
       "      <td>949.0774</td>\n",
       "      <td>0.795152</td>\n",
       "      <td>0.556667</td>\n",
       "      <td>4.81</td>\n",
       "      <td>24.4</td>\n",
       "      <td>0.586207</td>\n",
       "      <td>79.415</td>\n",
       "      <td>6.94</td>\n",
       "      <td>42.035</td>\n",
       "    </tr>\n",
       "    <tr>\n",
       "      <th>479</th>\n",
       "      <td>0.445851</td>\n",
       "      <td>0.466027</td>\n",
       "      <td>946.8986</td>\n",
       "      <td>0.720000</td>\n",
       "      <td>0.461471</td>\n",
       "      <td>1.73</td>\n",
       "      <td>24.3</td>\n",
       "      <td>0.564103</td>\n",
       "      <td>79.415</td>\n",
       "      <td>6.84</td>\n",
       "      <td>18.035</td>\n",
       "    </tr>\n",
       "    <tr>\n",
       "      <th>480</th>\n",
       "      <td>0.437485</td>\n",
       "      <td>0.446503</td>\n",
       "      <td>1082.3060</td>\n",
       "      <td>0.747647</td>\n",
       "      <td>0.468824</td>\n",
       "      <td>1.60</td>\n",
       "      <td>24.9</td>\n",
       "      <td>0.512821</td>\n",
       "      <td>79.415</td>\n",
       "      <td>6.80</td>\n",
       "      <td>23.035</td>\n",
       "    </tr>\n",
       "  </tbody>\n",
       "</table>\n",
       "</div>"
      ],
      "text/plain": [
       "          TSR       STR        PDO  Pass_Success  Possesion  Team_Value   AGE  \\\n",
       "476  0.551852  0.560662   893.8322      0.820588   0.578824        7.58  24.5   \n",
       "477  0.458194  0.439859   953.9767      0.721765   0.471765        2.50  23.9   \n",
       "478  0.493404  0.536775   949.0774      0.795152   0.556667        4.81  24.4   \n",
       "479  0.445851  0.466027   946.8986      0.720000   0.461471        1.73  24.3   \n",
       "480  0.437485  0.446503  1082.3060      0.747647   0.468824        1.60  24.9   \n",
       "\n",
       "        FPPsq  Country Score  Rating     Pts  \n",
       "476  0.542857         79.415    6.85  56.035  \n",
       "477  0.571429         79.415    6.69  28.035  \n",
       "478  0.586207         79.415    6.94  42.035  \n",
       "479  0.564103         79.415    6.84  18.035  \n",
       "480  0.512821         79.415    6.80  23.035  "
      ]
     },
     "execution_count": 5,
     "metadata": {},
     "output_type": "execute_result"
    }
   ],
   "source": [
    "#변수로 쓰지 않을 column 제거\n",
    "del X[\"Season\"]\n",
    "del X[\"NAT\"]\n",
    "del X[\"Club_Name\"]\n",
    "X.tail()"
   ]
  },
  {
   "cell_type": "code",
   "execution_count": 6,
   "metadata": {
    "collapsed": false
   },
   "outputs": [
    {
     "data": {
      "text/plain": [
       "481"
      ]
     },
     "execution_count": 6,
     "metadata": {},
     "output_type": "execute_result"
    }
   ],
   "source": [
    "# 실제 X Feature로 쓸 Feature 변수, Target 값, 데이터 수 표현 \n",
    "dfX0 = X[[x for x in [0,1,2,3,4,5,6,7,8,9]]]\n",
    "dfy = X[['Pts']]\n",
    "dfX0.head()\n",
    "len(dfy) # 데이터 수"
   ]
  },
  {
   "cell_type": "markdown",
   "metadata": {},
   "source": [
    "## Case 1 : 데이터 전처리를 Scale 방법으로 했을 때 \n",
    "\n",
    "* OLS분석의 귀무가설:\n",
    "    * P-value > 0.05 = 가중치가 0이라고 봐도 무방하다. (즉, 그런 변수는 이 모델에 아무런 영향도 주지 않는다.)"
   ]
  },
  {
   "cell_type": "code",
   "execution_count": 7,
   "metadata": {
    "collapsed": false
   },
   "outputs": [
    {
     "data": {
      "text/html": [
       "<div>\n",
       "<table border=\"1\" class=\"dataframe\">\n",
       "  <thead>\n",
       "    <tr style=\"text-align: right;\">\n",
       "      <th></th>\n",
       "      <th>TSR</th>\n",
       "      <th>STR</th>\n",
       "      <th>PDO</th>\n",
       "      <th>Pass_Success</th>\n",
       "      <th>Possesion</th>\n",
       "      <th>Team_Value</th>\n",
       "      <th>AGE</th>\n",
       "      <th>FPPsq</th>\n",
       "      <th>Country Score</th>\n",
       "      <th>Rating</th>\n",
       "    </tr>\n",
       "  </thead>\n",
       "  <tbody>\n",
       "    <tr>\n",
       "      <th>0</th>\n",
       "      <td>1.767694</td>\n",
       "      <td>1.072830</td>\n",
       "      <td>0.702958</td>\n",
       "      <td>0.633235</td>\n",
       "      <td>1.155129</td>\n",
       "      <td>1.761684</td>\n",
       "      <td>0.519319</td>\n",
       "      <td>1.123764</td>\n",
       "      <td>0.705245</td>\n",
       "      <td>2.090819</td>\n",
       "    </tr>\n",
       "    <tr>\n",
       "      <th>1</th>\n",
       "      <td>2.360454</td>\n",
       "      <td>2.498766</td>\n",
       "      <td>0.477391</td>\n",
       "      <td>-0.796171</td>\n",
       "      <td>1.778369</td>\n",
       "      <td>3.074054</td>\n",
       "      <td>1.975362</td>\n",
       "      <td>1.428731</td>\n",
       "      <td>0.705245</td>\n",
       "      <td>2.868828</td>\n",
       "    </tr>\n",
       "    <tr>\n",
       "      <th>2</th>\n",
       "      <td>1.785834</td>\n",
       "      <td>1.186252</td>\n",
       "      <td>0.240562</td>\n",
       "      <td>0.824346</td>\n",
       "      <td>1.445852</td>\n",
       "      <td>0.473668</td>\n",
       "      <td>-2.150094</td>\n",
       "      <td>1.266081</td>\n",
       "      <td>0.705245</td>\n",
       "      <td>1.949362</td>\n",
       "    </tr>\n",
       "    <tr>\n",
       "      <th>3</th>\n",
       "      <td>1.012133</td>\n",
       "      <td>0.504223</td>\n",
       "      <td>0.357675</td>\n",
       "      <td>-0.304279</td>\n",
       "      <td>0.055262</td>\n",
       "      <td>0.430373</td>\n",
       "      <td>-0.855833</td>\n",
       "      <td>-0.021720</td>\n",
       "      <td>0.705245</td>\n",
       "      <td>2.090819</td>\n",
       "    </tr>\n",
       "    <tr>\n",
       "      <th>4</th>\n",
       "      <td>1.528923</td>\n",
       "      <td>0.223077</td>\n",
       "      <td>0.064519</td>\n",
       "      <td>0.101769</td>\n",
       "      <td>1.227801</td>\n",
       "      <td>1.821215</td>\n",
       "      <td>0.033971</td>\n",
       "      <td>1.977668</td>\n",
       "      <td>0.705245</td>\n",
       "      <td>1.029896</td>\n",
       "    </tr>\n",
       "  </tbody>\n",
       "</table>\n",
       "</div>"
      ],
      "text/plain": [
       "        TSR       STR       PDO  Pass_Success  Possesion  Team_Value  \\\n",
       "0  1.767694  1.072830  0.702958      0.633235   1.155129    1.761684   \n",
       "1  2.360454  2.498766  0.477391     -0.796171   1.778369    3.074054   \n",
       "2  1.785834  1.186252  0.240562      0.824346   1.445852    0.473668   \n",
       "3  1.012133  0.504223  0.357675     -0.304279   0.055262    0.430373   \n",
       "4  1.528923  0.223077  0.064519      0.101769   1.227801    1.821215   \n",
       "\n",
       "        AGE     FPPsq  Country Score    Rating  \n",
       "0  0.519319  1.123764       0.705245  2.090819  \n",
       "1  1.975362  1.428731       0.705245  2.868828  \n",
       "2 -2.150094  1.266081       0.705245  1.949362  \n",
       "3 -0.855833 -0.021720       0.705245  2.090819  \n",
       "4  0.033971  1.977668       0.705245  1.029896  "
      ]
     },
     "execution_count": 7,
     "metadata": {},
     "output_type": "execute_result"
    }
   ],
   "source": [
    "dfX_1 = scale(dfX0)\n",
    "y = X['Pts']\n",
    "\n",
    "X_1 = pd.DataFrame(dfX_1, columns = [\"TSR\", \"STR\", \"PDO\", \"Pass_Success\", \"Possesion\", \n",
    "                                     \"Team_Value\", \"AGE\", \"FPPsq\", \"Country Score\", \"Rating\"])\n",
    "X_1.head()"
   ]
  },
  {
   "cell_type": "code",
   "execution_count": 8,
   "metadata": {
    "collapsed": false
   },
   "outputs": [
    {
     "name": "stdout",
     "output_type": "stream",
     "text": [
      "                            OLS Regression Results                            \n",
      "==============================================================================\n",
      "Dep. Variable:                    Pts   R-squared:                       0.751\n",
      "Model:                            OLS   Adj. R-squared:                  0.746\n",
      "Method:                 Least Squares   F-statistic:                     141.6\n",
      "Date:                Mon, 26 Dec 2016   Prob (F-statistic):          6.25e-135\n",
      "Time:                        06:20:11   Log-Likelihood:                -2090.5\n",
      "No. Observations:                 481   AIC:                             4203.\n",
      "Df Residuals:                     470   BIC:                             4249.\n",
      "Df Model:                          10                                         \n",
      "Covariance Type:            nonrobust                                         \n",
      "=================================================================================\n",
      "                    coef    std err          t      P>|t|      [95.0% Conf. Int.]\n",
      "---------------------------------------------------------------------------------\n",
      "const            51.1599      0.861     59.394      0.000        49.467    52.852\n",
      "TSR              -4.2738      1.280     -3.339      0.001        -6.789    -1.758\n",
      "STR               4.0422      1.544      2.618      0.009         1.009     7.076\n",
      "PDO               0.9395      1.040      0.903      0.367        -1.105     2.984\n",
      "Pass_Success      0.8995      1.493      0.603      0.547        -2.034     3.833\n",
      "Possesion        -0.1700      1.746     -0.097      0.922        -3.600     3.260\n",
      "Team_Value       27.1559      1.539     17.650      0.000        24.133    30.179\n",
      "AGE              -3.2660      0.914     -3.573      0.000        -5.062    -1.470\n",
      "FPPsq             0.0823      1.041      0.079      0.937        -1.963     2.127\n",
      "Country Score     4.4788      1.017      4.405      0.000         2.481     6.477\n",
      "Rating            3.1954      1.478      2.162      0.031         0.291     6.100\n",
      "==============================================================================\n",
      "Omnibus:                       14.889   Durbin-Watson:                   1.457\n",
      "Prob(Omnibus):                  0.001   Jarque-Bera (JB):               17.430\n",
      "Skew:                           0.339   Prob(JB):                     0.000164\n",
      "Kurtosis:                       3.641   Cond. No.                         5.22\n",
      "==============================================================================\n",
      "\n",
      "Warnings:\n",
      "[1] Standard Errors assume that the covariance matrix of the errors is correctly specified.\n"
     ]
    }
   ],
   "source": [
    "dfX_c = sm.add_constant(X_1)\n",
    "model = sm.OLS(y, dfX_c)\n",
    "result = model.fit()\n",
    "print (result.summary())"
   ]
  },
  {
   "cell_type": "markdown",
   "metadata": {},
   "source": [
    "* 모든 데이터 전처리를 Scale 방법으로 했을 때 \n",
    "\n",
    "    * 성능(R-squared)은 0.751로 75%정도 설명할 수 있다.\n",
    "    * PDO, Pass_Success, Possesion, FPPsq의 P-value가 귀무가설에 만족하므로 영향을 주지 않는 변수라고 나온다.\n",
    "    * Omnibus, Jarque-Bera를 통한 정규성 검정 결과 P-value가 유의수준 0.05미만이므로 정규성을 따르지 않는다.\n",
    "---    \n",
    "    \n",
    "    => 전처리 방법을 바꿔야 한다."
   ]
  },
  {
   "cell_type": "markdown",
   "metadata": {},
   "source": [
    "## Case 2 : 데이터 전처리를 Robust Scale 방법으로 했을 때 \n"
   ]
  },
  {
   "cell_type": "code",
   "execution_count": 9,
   "metadata": {
    "collapsed": false
   },
   "outputs": [
    {
     "data": {
      "text/html": [
       "<div>\n",
       "<table border=\"1\" class=\"dataframe\">\n",
       "  <thead>\n",
       "    <tr style=\"text-align: right;\">\n",
       "      <th></th>\n",
       "      <th>TSR</th>\n",
       "      <th>STR</th>\n",
       "      <th>PDO</th>\n",
       "      <th>Pass_Success</th>\n",
       "      <th>Possesion</th>\n",
       "      <th>Team_Value</th>\n",
       "      <th>AGE</th>\n",
       "      <th>FPPsq</th>\n",
       "      <th>Country Score</th>\n",
       "      <th>Rating</th>\n",
       "    </tr>\n",
       "  </thead>\n",
       "  <tbody>\n",
       "    <tr>\n",
       "      <th>0</th>\n",
       "      <td>1.767694</td>\n",
       "      <td>1.072830</td>\n",
       "      <td>0.702958</td>\n",
       "      <td>0.633235</td>\n",
       "      <td>1.155129</td>\n",
       "      <td>1.761684</td>\n",
       "      <td>0.519319</td>\n",
       "      <td>1.123764</td>\n",
       "      <td>0.705245</td>\n",
       "      <td>2.090819</td>\n",
       "    </tr>\n",
       "    <tr>\n",
       "      <th>1</th>\n",
       "      <td>2.360454</td>\n",
       "      <td>2.498766</td>\n",
       "      <td>0.477391</td>\n",
       "      <td>-0.796171</td>\n",
       "      <td>1.778369</td>\n",
       "      <td>3.074054</td>\n",
       "      <td>1.975362</td>\n",
       "      <td>1.428731</td>\n",
       "      <td>0.705245</td>\n",
       "      <td>2.868828</td>\n",
       "    </tr>\n",
       "    <tr>\n",
       "      <th>2</th>\n",
       "      <td>1.785834</td>\n",
       "      <td>1.186252</td>\n",
       "      <td>0.240562</td>\n",
       "      <td>0.824346</td>\n",
       "      <td>1.445852</td>\n",
       "      <td>0.473668</td>\n",
       "      <td>-2.150094</td>\n",
       "      <td>1.266081</td>\n",
       "      <td>0.705245</td>\n",
       "      <td>1.949362</td>\n",
       "    </tr>\n",
       "    <tr>\n",
       "      <th>3</th>\n",
       "      <td>1.012133</td>\n",
       "      <td>0.504223</td>\n",
       "      <td>0.357675</td>\n",
       "      <td>-0.304279</td>\n",
       "      <td>0.055262</td>\n",
       "      <td>0.430373</td>\n",
       "      <td>-0.855833</td>\n",
       "      <td>-0.021720</td>\n",
       "      <td>0.705245</td>\n",
       "      <td>2.090819</td>\n",
       "    </tr>\n",
       "    <tr>\n",
       "      <th>4</th>\n",
       "      <td>1.528923</td>\n",
       "      <td>0.223077</td>\n",
       "      <td>0.064519</td>\n",
       "      <td>0.101769</td>\n",
       "      <td>1.227801</td>\n",
       "      <td>1.821215</td>\n",
       "      <td>0.033971</td>\n",
       "      <td>1.977668</td>\n",
       "      <td>0.705245</td>\n",
       "      <td>1.029896</td>\n",
       "    </tr>\n",
       "  </tbody>\n",
       "</table>\n",
       "</div>"
      ],
      "text/plain": [
       "        TSR       STR       PDO  Pass_Success  Possesion  Team_Value  \\\n",
       "0  1.767694  1.072830  0.702958      0.633235   1.155129    1.761684   \n",
       "1  2.360454  2.498766  0.477391     -0.796171   1.778369    3.074054   \n",
       "2  1.785834  1.186252  0.240562      0.824346   1.445852    0.473668   \n",
       "3  1.012133  0.504223  0.357675     -0.304279   0.055262    0.430373   \n",
       "4  1.528923  0.223077  0.064519      0.101769   1.227801    1.821215   \n",
       "\n",
       "        AGE     FPPsq  Country Score    Rating  \n",
       "0  0.519319  1.123764       0.705245  2.090819  \n",
       "1  1.975362  1.428731       0.705245  2.868828  \n",
       "2 -2.150094  1.266081       0.705245  1.949362  \n",
       "3 -0.855833 -0.021720       0.705245  2.090819  \n",
       "4  0.033971  1.977668       0.705245  1.029896  "
      ]
     },
     "execution_count": 9,
     "metadata": {},
     "output_type": "execute_result"
    }
   ],
   "source": [
    "dfX_2 = robust_scale(dfX0)\n",
    "y = X['Pts']\n",
    "\n",
    "X_2 = pd.DataFrame(dfX_1, columns = [\"TSR\", \"STR\", \"PDO\", \"Pass_Success\", \"Possesion\", \n",
    "                                     \"Team_Value\", \"AGE\", \"FPPsq\", \"Country Score\", \"Rating\"])\n",
    "X_2.head()"
   ]
  },
  {
   "cell_type": "code",
   "execution_count": 10,
   "metadata": {
    "collapsed": false
   },
   "outputs": [
    {
     "name": "stdout",
     "output_type": "stream",
     "text": [
      "                            OLS Regression Results                            \n",
      "==============================================================================\n",
      "Dep. Variable:                    Pts   R-squared:                       0.751\n",
      "Model:                            OLS   Adj. R-squared:                  0.746\n",
      "Method:                 Least Squares   F-statistic:                     141.6\n",
      "Date:                Mon, 26 Dec 2016   Prob (F-statistic):          6.25e-135\n",
      "Time:                        06:20:33   Log-Likelihood:                -2090.5\n",
      "No. Observations:                 481   AIC:                             4203.\n",
      "Df Residuals:                     470   BIC:                             4249.\n",
      "Df Model:                          10                                         \n",
      "Covariance Type:            nonrobust                                         \n",
      "=================================================================================\n",
      "                    coef    std err          t      P>|t|      [95.0% Conf. Int.]\n",
      "---------------------------------------------------------------------------------\n",
      "const            51.1599      0.861     59.394      0.000        49.467    52.852\n",
      "TSR              -4.2738      1.280     -3.339      0.001        -6.789    -1.758\n",
      "STR               4.0422      1.544      2.618      0.009         1.009     7.076\n",
      "PDO               0.9395      1.040      0.903      0.367        -1.105     2.984\n",
      "Pass_Success      0.8995      1.493      0.603      0.547        -2.034     3.833\n",
      "Possesion        -0.1700      1.746     -0.097      0.922        -3.600     3.260\n",
      "Team_Value       27.1559      1.539     17.650      0.000        24.133    30.179\n",
      "AGE              -3.2660      0.914     -3.573      0.000        -5.062    -1.470\n",
      "FPPsq             0.0823      1.041      0.079      0.937        -1.963     2.127\n",
      "Country Score     4.4788      1.017      4.405      0.000         2.481     6.477\n",
      "Rating            3.1954      1.478      2.162      0.031         0.291     6.100\n",
      "==============================================================================\n",
      "Omnibus:                       14.889   Durbin-Watson:                   1.457\n",
      "Prob(Omnibus):                  0.001   Jarque-Bera (JB):               17.430\n",
      "Skew:                           0.339   Prob(JB):                     0.000164\n",
      "Kurtosis:                       3.641   Cond. No.                         5.22\n",
      "==============================================================================\n",
      "\n",
      "Warnings:\n",
      "[1] Standard Errors assume that the covariance matrix of the errors is correctly specified.\n"
     ]
    }
   ],
   "source": [
    "dfX_c2 = sm.add_constant(X_2)\n",
    "model = sm.OLS(y, dfX_c2)\n",
    "result = model.fit()\n",
    "print (result.summary())"
   ]
  },
  {
   "cell_type": "markdown",
   "metadata": {},
   "source": [
    "* 모든 데이터 전처리를 Robust Scale 방법으로 했을 때 \n",
    "\n",
    "    * 성능(R-squared)은 0.751로 75%정도 설명할 수 있다.\n",
    "    * PDO, Pass_Success, Possesion, FPPsq의 P-value가 귀무가설에 만족하므로 영향을 주지 않는 변수라고 나온다.\n",
    "    * Omnibus, Jarque-Bera를 통한 정규성 검정 결과 P-value가 유의수준 0.05미만이므로 정규성을 따르지 않는다.\n",
    "---    \n",
    "    \n",
    "    => 전처리 방법을 바꿔야 한다."
   ]
  },
  {
   "cell_type": "markdown",
   "metadata": {},
   "source": [
    "## Case3 : Feature Engineering, 데이터 마다 각각 전처리 방법을 다르게 했을 경우\n",
    "\n",
    "* 데이터마다 각각 전처리 방법 다르게 했을 때(scale, robust_scale, minmax_scale, maxabs_scale)\n",
    "* Heatmap, Pairplot을 참고했을 때 상관관계가 있는 변수들은 그 중에 하나씩 제거해보면서 OLS 분석"
   ]
  },
  {
   "cell_type": "code",
   "execution_count": 20,
   "metadata": {
    "collapsed": false
   },
   "outputs": [
    {
     "data": {
      "text/html": [
       "<div>\n",
       "<table border=\"1\" class=\"dataframe\">\n",
       "  <thead>\n",
       "    <tr style=\"text-align: right;\">\n",
       "      <th></th>\n",
       "      <th>TSR</th>\n",
       "      <th>STR</th>\n",
       "      <th>PDO</th>\n",
       "      <th>Pass_Success</th>\n",
       "      <th>Possesion</th>\n",
       "      <th>Team_Value</th>\n",
       "      <th>AGE</th>\n",
       "      <th>FPPsq</th>\n",
       "      <th>Country Score</th>\n",
       "      <th>Rating</th>\n",
       "    </tr>\n",
       "  </thead>\n",
       "  <tbody>\n",
       "    <tr>\n",
       "      <th>0</th>\n",
       "      <td>0.628058</td>\n",
       "      <td>0.611384</td>\n",
       "      <td>1052.258</td>\n",
       "      <td>0.800789</td>\n",
       "      <td>0.581842</td>\n",
       "      <td>11.00</td>\n",
       "      <td>25.0</td>\n",
       "      <td>0.666667</td>\n",
       "      <td>79.499</td>\n",
       "      <td>7.19</td>\n",
       "    </tr>\n",
       "    <tr>\n",
       "      <th>1</th>\n",
       "      <td>0.680405</td>\n",
       "      <td>0.720911</td>\n",
       "      <td>1035.715</td>\n",
       "      <td>0.737797</td>\n",
       "      <td>0.615692</td>\n",
       "      <td>15.85</td>\n",
       "      <td>26.8</td>\n",
       "      <td>0.714286</td>\n",
       "      <td>79.499</td>\n",
       "      <td>7.30</td>\n",
       "    </tr>\n",
       "    <tr>\n",
       "      <th>2</th>\n",
       "      <td>0.629660</td>\n",
       "      <td>0.620096</td>\n",
       "      <td>1018.346</td>\n",
       "      <td>0.809211</td>\n",
       "      <td>0.597632</td>\n",
       "      <td>6.24</td>\n",
       "      <td>21.7</td>\n",
       "      <td>0.688889</td>\n",
       "      <td>79.499</td>\n",
       "      <td>7.17</td>\n",
       "    </tr>\n",
       "    <tr>\n",
       "      <th>3</th>\n",
       "      <td>0.561334</td>\n",
       "      <td>0.567709</td>\n",
       "      <td>1026.935</td>\n",
       "      <td>0.759474</td>\n",
       "      <td>0.522105</td>\n",
       "      <td>6.08</td>\n",
       "      <td>23.3</td>\n",
       "      <td>0.487805</td>\n",
       "      <td>79.499</td>\n",
       "      <td>7.19</td>\n",
       "    </tr>\n",
       "    <tr>\n",
       "      <th>4</th>\n",
       "      <td>0.606972</td>\n",
       "      <td>0.546114</td>\n",
       "      <td>1005.435</td>\n",
       "      <td>0.777368</td>\n",
       "      <td>0.585789</td>\n",
       "      <td>11.22</td>\n",
       "      <td>24.4</td>\n",
       "      <td>0.800000</td>\n",
       "      <td>79.499</td>\n",
       "      <td>7.04</td>\n",
       "    </tr>\n",
       "  </tbody>\n",
       "</table>\n",
       "</div>"
      ],
      "text/plain": [
       "        TSR       STR       PDO  Pass_Success  Possesion  Team_Value   AGE  \\\n",
       "0  0.628058  0.611384  1052.258      0.800789   0.581842       11.00  25.0   \n",
       "1  0.680405  0.720911  1035.715      0.737797   0.615692       15.85  26.8   \n",
       "2  0.629660  0.620096  1018.346      0.809211   0.597632        6.24  21.7   \n",
       "3  0.561334  0.567709  1026.935      0.759474   0.522105        6.08  23.3   \n",
       "4  0.606972  0.546114  1005.435      0.777368   0.585789       11.22  24.4   \n",
       "\n",
       "      FPPsq  Country Score  Rating  \n",
       "0  0.666667         79.499    7.19  \n",
       "1  0.714286         79.499    7.30  \n",
       "2  0.688889         79.499    7.17  \n",
       "3  0.487805         79.499    7.19  \n",
       "4  0.800000         79.499    7.04  "
      ]
     },
     "execution_count": 20,
     "metadata": {},
     "output_type": "execute_result"
    }
   ],
   "source": [
    "dfX0 = X[[x for x in [0,1,2,3,4,5,6,7,8,9]]]\n",
    "dfy = X[['Pts']]\n",
    "\n",
    "dfX0.head()"
   ]
  },
  {
   "cell_type": "markdown",
   "metadata": {},
   "source": [
    "### 3- 1 (TSR, PDO, Pass_Success, Team_value, AGE, FPPsq, Country_Score)  Feature로 선택\n",
    "### target = np.log(X['Pts'])"
   ]
  },
  {
   "cell_type": "code",
   "execution_count": 21,
   "metadata": {
    "collapsed": false
   },
   "outputs": [
    {
     "name": "stderr",
     "output_type": "stream",
     "text": [
      "/home/dockeruser/anaconda2/envs/gl-env/lib/python2.7/site-packages/sklearn/preprocessing/data.py:986: DeprecationWarning: Passing 1d arrays as data is deprecated in 0.17 and will raise ValueError in 0.19. Reshape your data either using X.reshape(-1, 1) if your data has a single feature or X.reshape(1, -1) if it contains a single sample.\n",
      "  warnings.warn(DEPRECATION_MSG_1D, DeprecationWarning)\n",
      "/home/dockeruser/anaconda2/envs/gl-env/lib/python2.7/site-packages/sklearn/preprocessing/data.py:1008: DeprecationWarning: Passing 1d arrays as data is deprecated in 0.17 and will raise ValueError in 0.19. Reshape your data either using X.reshape(-1, 1) if your data has a single feature or X.reshape(1, -1) if it contains a single sample.\n",
      "  warnings.warn(DEPRECATION_MSG_1D, DeprecationWarning)\n",
      "/home/dockeruser/anaconda2/envs/gl-env/lib/python2.7/site-packages/sklearn/preprocessing/data.py:986: DeprecationWarning: Passing 1d arrays as data is deprecated in 0.17 and will raise ValueError in 0.19. Reshape your data either using X.reshape(-1, 1) if your data has a single feature or X.reshape(1, -1) if it contains a single sample.\n",
      "  warnings.warn(DEPRECATION_MSG_1D, DeprecationWarning)\n",
      "/home/dockeruser/anaconda2/envs/gl-env/lib/python2.7/site-packages/sklearn/preprocessing/data.py:1037: DeprecationWarning: Passing 1d arrays as data is deprecated in 0.17 and will raise ValueError in 0.19. Reshape your data either using X.reshape(-1, 1) if your data has a single feature or X.reshape(1, -1) if it contains a single sample.\n",
      "  warnings.warn(DEPRECATION_MSG_1D, DeprecationWarning)\n",
      "/home/dockeruser/anaconda2/envs/gl-env/lib/python2.7/site-packages/sklearn/preprocessing/data.py:986: DeprecationWarning: Passing 1d arrays as data is deprecated in 0.17 and will raise ValueError in 0.19. Reshape your data either using X.reshape(-1, 1) if your data has a single feature or X.reshape(1, -1) if it contains a single sample.\n",
      "  warnings.warn(DEPRECATION_MSG_1D, DeprecationWarning)\n",
      "/home/dockeruser/anaconda2/envs/gl-env/lib/python2.7/site-packages/sklearn/preprocessing/data.py:1008: DeprecationWarning: Passing 1d arrays as data is deprecated in 0.17 and will raise ValueError in 0.19. Reshape your data either using X.reshape(-1, 1) if your data has a single feature or X.reshape(1, -1) if it contains a single sample.\n",
      "  warnings.warn(DEPRECATION_MSG_1D, DeprecationWarning)\n",
      "/home/dockeruser/anaconda2/envs/gl-env/lib/python2.7/site-packages/sklearn/preprocessing/data.py:986: DeprecationWarning: Passing 1d arrays as data is deprecated in 0.17 and will raise ValueError in 0.19. Reshape your data either using X.reshape(-1, 1) if your data has a single feature or X.reshape(1, -1) if it contains a single sample.\n",
      "  warnings.warn(DEPRECATION_MSG_1D, DeprecationWarning)\n",
      "/home/dockeruser/anaconda2/envs/gl-env/lib/python2.7/site-packages/sklearn/preprocessing/data.py:1037: DeprecationWarning: Passing 1d arrays as data is deprecated in 0.17 and will raise ValueError in 0.19. Reshape your data either using X.reshape(-1, 1) if your data has a single feature or X.reshape(1, -1) if it contains a single sample.\n",
      "  warnings.warn(DEPRECATION_MSG_1D, DeprecationWarning)\n",
      "/home/dockeruser/anaconda2/envs/gl-env/lib/python2.7/site-packages/sklearn/preprocessing/data.py:986: DeprecationWarning: Passing 1d arrays as data is deprecated in 0.17 and will raise ValueError in 0.19. Reshape your data either using X.reshape(-1, 1) if your data has a single feature or X.reshape(1, -1) if it contains a single sample.\n",
      "  warnings.warn(DEPRECATION_MSG_1D, DeprecationWarning)\n",
      "/home/dockeruser/anaconda2/envs/gl-env/lib/python2.7/site-packages/sklearn/preprocessing/data.py:1008: DeprecationWarning: Passing 1d arrays as data is deprecated in 0.17 and will raise ValueError in 0.19. Reshape your data either using X.reshape(-1, 1) if your data has a single feature or X.reshape(1, -1) if it contains a single sample.\n",
      "  warnings.warn(DEPRECATION_MSG_1D, DeprecationWarning)\n",
      "/home/dockeruser/anaconda2/envs/gl-env/lib/python2.7/site-packages/sklearn/preprocessing/data.py:986: DeprecationWarning: Passing 1d arrays as data is deprecated in 0.17 and will raise ValueError in 0.19. Reshape your data either using X.reshape(-1, 1) if your data has a single feature or X.reshape(1, -1) if it contains a single sample.\n",
      "  warnings.warn(DEPRECATION_MSG_1D, DeprecationWarning)\n",
      "/home/dockeruser/anaconda2/envs/gl-env/lib/python2.7/site-packages/sklearn/preprocessing/data.py:1037: DeprecationWarning: Passing 1d arrays as data is deprecated in 0.17 and will raise ValueError in 0.19. Reshape your data either using X.reshape(-1, 1) if your data has a single feature or X.reshape(1, -1) if it contains a single sample.\n",
      "  warnings.warn(DEPRECATION_MSG_1D, DeprecationWarning)\n"
     ]
    }
   ],
   "source": [
    "robust_tsr = robust_scale(dfX0['TSR'])\n",
    "robust_pdo = robust_scale(dfX0['PDO'])\n",
    "scale_Pass = scale(dfX0['Pass_Success'])\n",
    "log_T_V = np.log(dfX0['Team_Value'])\n",
    "scale_age = scale(dfX0['AGE'])\n",
    "robust_FPPsq = robust_scale(dfX0['FPPsq'])\n",
    "scale_C_S = scale(dfX0['Country Score'])\n",
    "target = np.log(X['Pts'])"
   ]
  },
  {
   "cell_type": "code",
   "execution_count": 22,
   "metadata": {
    "collapsed": true
   },
   "outputs": [],
   "source": [
    "case1_array = np.array([robust_tsr, robust_pdo, scale_Pass, log_T_V, scale_age, robust_FPPsq, scale_C_S]).T"
   ]
  },
  {
   "cell_type": "code",
   "execution_count": 23,
   "metadata": {
    "collapsed": true
   },
   "outputs": [],
   "source": [
    "case_1 = pd.DataFrame(case1_array, columns = ['TSR', 'PDO', 'Pass_Success', 'Team_Value', \n",
    "                                              'AGE' ,'FPPsq','Country Score'])"
   ]
  },
  {
   "cell_type": "code",
   "execution_count": 24,
   "metadata": {
    "collapsed": false
   },
   "outputs": [
    {
     "data": {
      "text/html": [
       "<div>\n",
       "<table border=\"1\" class=\"dataframe\">\n",
       "  <thead>\n",
       "    <tr style=\"text-align: right;\">\n",
       "      <th></th>\n",
       "      <th>TSR</th>\n",
       "      <th>PDO</th>\n",
       "      <th>Pass_Success</th>\n",
       "      <th>Team_Value</th>\n",
       "      <th>AGE</th>\n",
       "      <th>FPPsq</th>\n",
       "      <th>Country Score</th>\n",
       "    </tr>\n",
       "  </thead>\n",
       "  <tbody>\n",
       "    <tr>\n",
       "      <th>0</th>\n",
       "      <td>1.162793</td>\n",
       "      <td>0.669332</td>\n",
       "      <td>0.633235</td>\n",
       "      <td>2.397895</td>\n",
       "      <td>0.519319</td>\n",
       "      <td>0.948275</td>\n",
       "      <td>0.705245</td>\n",
       "    </tr>\n",
       "    <tr>\n",
       "      <th>1</th>\n",
       "      <td>1.574213</td>\n",
       "      <td>0.465196</td>\n",
       "      <td>-0.796171</td>\n",
       "      <td>2.763170</td>\n",
       "      <td>1.975362</td>\n",
       "      <td>1.219211</td>\n",
       "      <td>0.705245</td>\n",
       "    </tr>\n",
       "    <tr>\n",
       "      <th>2</th>\n",
       "      <td>1.175384</td>\n",
       "      <td>0.250868</td>\n",
       "      <td>0.824346</td>\n",
       "      <td>1.830980</td>\n",
       "      <td>-2.150094</td>\n",
       "      <td>1.074711</td>\n",
       "      <td>0.705245</td>\n",
       "    </tr>\n",
       "    <tr>\n",
       "      <th>3</th>\n",
       "      <td>0.638378</td>\n",
       "      <td>0.356854</td>\n",
       "      <td>-0.304279</td>\n",
       "      <td>1.805005</td>\n",
       "      <td>-0.855833</td>\n",
       "      <td>-0.069385</td>\n",
       "      <td>0.705245</td>\n",
       "    </tr>\n",
       "    <tr>\n",
       "      <th>4</th>\n",
       "      <td>0.997068</td>\n",
       "      <td>0.091550</td>\n",
       "      <td>0.101769</td>\n",
       "      <td>2.417698</td>\n",
       "      <td>0.033971</td>\n",
       "      <td>1.706892</td>\n",
       "      <td>0.705245</td>\n",
       "    </tr>\n",
       "  </tbody>\n",
       "</table>\n",
       "</div>"
      ],
      "text/plain": [
       "        TSR       PDO  Pass_Success  Team_Value       AGE     FPPsq  \\\n",
       "0  1.162793  0.669332      0.633235    2.397895  0.519319  0.948275   \n",
       "1  1.574213  0.465196     -0.796171    2.763170  1.975362  1.219211   \n",
       "2  1.175384  0.250868      0.824346    1.830980 -2.150094  1.074711   \n",
       "3  0.638378  0.356854     -0.304279    1.805005 -0.855833 -0.069385   \n",
       "4  0.997068  0.091550      0.101769    2.417698  0.033971  1.706892   \n",
       "\n",
       "   Country Score  \n",
       "0       0.705245  \n",
       "1       0.705245  \n",
       "2       0.705245  \n",
       "3       0.705245  \n",
       "4       0.705245  "
      ]
     },
     "execution_count": 24,
     "metadata": {},
     "output_type": "execute_result"
    }
   ],
   "source": [
    "case_1.head()"
   ]
  },
  {
   "cell_type": "code",
   "execution_count": 25,
   "metadata": {
    "collapsed": false
   },
   "outputs": [
    {
     "name": "stdout",
     "output_type": "stream",
     "text": [
      "                            OLS Regression Results                            \n",
      "==============================================================================\n",
      "Dep. Variable:                    Pts   R-squared:                       0.679\n",
      "Model:                            OLS   Adj. R-squared:                  0.674\n",
      "Method:                 Least Squares   F-statistic:                     143.0\n",
      "Date:                Mon, 26 Dec 2016   Prob (F-statistic):          1.90e-112\n",
      "Time:                        06:22:19   Log-Likelihood:                -268.96\n",
      "No. Observations:                 481   AIC:                             553.9\n",
      "Df Residuals:                     473   BIC:                             587.3\n",
      "Df Model:                           7                                         \n",
      "Covariance Type:            nonrobust                                         \n",
      "=================================================================================\n",
      "                    coef    std err          t      P>|t|      [95.0% Conf. Int.]\n",
      "---------------------------------------------------------------------------------\n",
      "const             2.7518      0.054     51.306      0.000         2.646     2.857\n",
      "TSR              -0.0903      0.040     -2.259      0.024        -0.169    -0.012\n",
      "PDO               0.0450      0.024      1.857      0.064        -0.003     0.093\n",
      "Pass_Success      0.0384      0.026      1.472      0.142        -0.013     0.090\n",
      "Team_Value        0.7580      0.041     18.571      0.000         0.678     0.838\n",
      "AGE              -0.0863      0.021     -4.164      0.000        -0.127    -0.046\n",
      "FPPsq            -0.0376      0.025     -1.501      0.134        -0.087     0.012\n",
      "Country Score     0.0700      0.024      2.944      0.003         0.023     0.117\n",
      "==============================================================================\n",
      "Omnibus:                        3.194   Durbin-Watson:                   1.345\n",
      "Prob(Omnibus):                  0.202   Jarque-Bera (JB):                3.239\n",
      "Skew:                          -0.197   Prob(JB):                        0.198\n",
      "Kurtosis:                       2.919   Cond. No.                         6.43\n",
      "==============================================================================\n",
      "\n",
      "Warnings:\n",
      "[1] Standard Errors assume that the covariance matrix of the errors is correctly specified.\n"
     ]
    }
   ],
   "source": [
    "case_1_constant = sm.add_constant(case_1)\n",
    "model = sm.OLS(target, case_1_constant)\n",
    "result = model.fit()\n",
    "print (result.summary())"
   ]
  },
  {
   "cell_type": "markdown",
   "metadata": {},
   "source": [
    "* TSR, PDO, Pass_Success, Team_value, AGE, FPPsq, Country_Score를 Feature로 선택했을 때\n",
    "\n",
    "    * 성능은 0.679, 약 68%정도로 감소하였지만 Feature들의 P-value 값들이 전보다 많이 좋아졌음을 알 수 있다.\n",
    "    * PDO, Pass_Success FPPsq 변수의 p-value들이 OLS의 귀무가설을 만족하여 영향을 주지 않는 변수로 나온다.\n",
    "    * 정규성 검정을 보면 p-value가 0.05이상이므로 정규성을 따른다.\n",
    "    * 다중공선성을 따르지 않는다.\n",
    "    \n",
    "---\n",
    "=> 다른 변수들도 선택하면서 분석해보자."
   ]
  },
  {
   "cell_type": "markdown",
   "metadata": {},
   "source": [
    "### 3- 2 (STR, PDO, Possesion, Team_value, AGE, FPPsq, Country_Score Feature) Feature로 선택\n",
    "### target = np.log(X['Pts'])"
   ]
  },
  {
   "cell_type": "code",
   "execution_count": 26,
   "metadata": {
    "collapsed": false
   },
   "outputs": [
    {
     "name": "stderr",
     "output_type": "stream",
     "text": [
      "/home/dockeruser/anaconda2/envs/gl-env/lib/python2.7/site-packages/sklearn/preprocessing/data.py:986: DeprecationWarning: Passing 1d arrays as data is deprecated in 0.17 and will raise ValueError in 0.19. Reshape your data either using X.reshape(-1, 1) if your data has a single feature or X.reshape(1, -1) if it contains a single sample.\n",
      "  warnings.warn(DEPRECATION_MSG_1D, DeprecationWarning)\n",
      "/home/dockeruser/anaconda2/envs/gl-env/lib/python2.7/site-packages/sklearn/preprocessing/data.py:1008: DeprecationWarning: Passing 1d arrays as data is deprecated in 0.17 and will raise ValueError in 0.19. Reshape your data either using X.reshape(-1, 1) if your data has a single feature or X.reshape(1, -1) if it contains a single sample.\n",
      "  warnings.warn(DEPRECATION_MSG_1D, DeprecationWarning)\n",
      "/home/dockeruser/anaconda2/envs/gl-env/lib/python2.7/site-packages/sklearn/preprocessing/data.py:986: DeprecationWarning: Passing 1d arrays as data is deprecated in 0.17 and will raise ValueError in 0.19. Reshape your data either using X.reshape(-1, 1) if your data has a single feature or X.reshape(1, -1) if it contains a single sample.\n",
      "  warnings.warn(DEPRECATION_MSG_1D, DeprecationWarning)\n",
      "/home/dockeruser/anaconda2/envs/gl-env/lib/python2.7/site-packages/sklearn/preprocessing/data.py:1037: DeprecationWarning: Passing 1d arrays as data is deprecated in 0.17 and will raise ValueError in 0.19. Reshape your data either using X.reshape(-1, 1) if your data has a single feature or X.reshape(1, -1) if it contains a single sample.\n",
      "  warnings.warn(DEPRECATION_MSG_1D, DeprecationWarning)\n",
      "/home/dockeruser/anaconda2/envs/gl-env/lib/python2.7/site-packages/sklearn/preprocessing/data.py:986: DeprecationWarning: Passing 1d arrays as data is deprecated in 0.17 and will raise ValueError in 0.19. Reshape your data either using X.reshape(-1, 1) if your data has a single feature or X.reshape(1, -1) if it contains a single sample.\n",
      "  warnings.warn(DEPRECATION_MSG_1D, DeprecationWarning)\n",
      "/home/dockeruser/anaconda2/envs/gl-env/lib/python2.7/site-packages/sklearn/preprocessing/data.py:1008: DeprecationWarning: Passing 1d arrays as data is deprecated in 0.17 and will raise ValueError in 0.19. Reshape your data either using X.reshape(-1, 1) if your data has a single feature or X.reshape(1, -1) if it contains a single sample.\n",
      "  warnings.warn(DEPRECATION_MSG_1D, DeprecationWarning)\n",
      "/home/dockeruser/anaconda2/envs/gl-env/lib/python2.7/site-packages/sklearn/preprocessing/data.py:986: DeprecationWarning: Passing 1d arrays as data is deprecated in 0.17 and will raise ValueError in 0.19. Reshape your data either using X.reshape(-1, 1) if your data has a single feature or X.reshape(1, -1) if it contains a single sample.\n",
      "  warnings.warn(DEPRECATION_MSG_1D, DeprecationWarning)\n",
      "/home/dockeruser/anaconda2/envs/gl-env/lib/python2.7/site-packages/sklearn/preprocessing/data.py:1037: DeprecationWarning: Passing 1d arrays as data is deprecated in 0.17 and will raise ValueError in 0.19. Reshape your data either using X.reshape(-1, 1) if your data has a single feature or X.reshape(1, -1) if it contains a single sample.\n",
      "  warnings.warn(DEPRECATION_MSG_1D, DeprecationWarning)\n",
      "/home/dockeruser/anaconda2/envs/gl-env/lib/python2.7/site-packages/sklearn/preprocessing/data.py:986: DeprecationWarning: Passing 1d arrays as data is deprecated in 0.17 and will raise ValueError in 0.19. Reshape your data either using X.reshape(-1, 1) if your data has a single feature or X.reshape(1, -1) if it contains a single sample.\n",
      "  warnings.warn(DEPRECATION_MSG_1D, DeprecationWarning)\n",
      "/home/dockeruser/anaconda2/envs/gl-env/lib/python2.7/site-packages/sklearn/preprocessing/data.py:1008: DeprecationWarning: Passing 1d arrays as data is deprecated in 0.17 and will raise ValueError in 0.19. Reshape your data either using X.reshape(-1, 1) if your data has a single feature or X.reshape(1, -1) if it contains a single sample.\n",
      "  warnings.warn(DEPRECATION_MSG_1D, DeprecationWarning)\n",
      "/home/dockeruser/anaconda2/envs/gl-env/lib/python2.7/site-packages/sklearn/preprocessing/data.py:986: DeprecationWarning: Passing 1d arrays as data is deprecated in 0.17 and will raise ValueError in 0.19. Reshape your data either using X.reshape(-1, 1) if your data has a single feature or X.reshape(1, -1) if it contains a single sample.\n",
      "  warnings.warn(DEPRECATION_MSG_1D, DeprecationWarning)\n",
      "/home/dockeruser/anaconda2/envs/gl-env/lib/python2.7/site-packages/sklearn/preprocessing/data.py:1037: DeprecationWarning: Passing 1d arrays as data is deprecated in 0.17 and will raise ValueError in 0.19. Reshape your data either using X.reshape(-1, 1) if your data has a single feature or X.reshape(1, -1) if it contains a single sample.\n",
      "  warnings.warn(DEPRECATION_MSG_1D, DeprecationWarning)\n"
     ]
    }
   ],
   "source": [
    "robust_str = robust_scale(dfX0['STR'])\n",
    "robust_pdo = robust_scale(dfX0['PDO'])\n",
    "scale_Poss = scale(dfX0['Possesion'])\n",
    "log_T_V = np.log(dfX0['Team_Value'])\n",
    "scale_age = scale(dfX0['AGE'])\n",
    "robust_FPPsq = robust_scale(dfX0['FPPsq'])\n",
    "scale_C_S = scale(dfX0['Country Score'])\n",
    "target = np.log(X['Pts'])"
   ]
  },
  {
   "cell_type": "code",
   "execution_count": 27,
   "metadata": {
    "collapsed": true
   },
   "outputs": [],
   "source": [
    "case2_array = np.array([robust_str, robust_pdo, scale_Poss, log_T_V, scale_age, robust_FPPsq, scale_C_S]).T\n",
    "case_2 = pd.DataFrame(case2_array, columns = ['STR', 'PDO', 'Possesion', 'Team_Value', \n",
    "                                              'AGE' ,'FPPsq','Country Score'])"
   ]
  },
  {
   "cell_type": "code",
   "execution_count": 28,
   "metadata": {
    "collapsed": false
   },
   "outputs": [
    {
     "name": "stdout",
     "output_type": "stream",
     "text": [
      "                            OLS Regression Results                            \n",
      "==============================================================================\n",
      "Dep. Variable:                    Pts   R-squared:                       0.680\n",
      "Model:                            OLS   Adj. R-squared:                  0.676\n",
      "Method:                 Least Squares   F-statistic:                     143.8\n",
      "Date:                Mon, 26 Dec 2016   Prob (F-statistic):          7.78e-113\n",
      "Time:                        06:22:30   Log-Likelihood:                -268.05\n",
      "No. Observations:                 481   AIC:                             552.1\n",
      "Df Residuals:                     473   BIC:                             585.5\n",
      "Df Model:                           7                                         \n",
      "Covariance Type:            nonrobust                                         \n",
      "=================================================================================\n",
      "                    coef    std err          t      P>|t|      [95.0% Conf. Int.]\n",
      "---------------------------------------------------------------------------------\n",
      "const             2.8571      0.052     54.681      0.000         2.754     2.960\n",
      "STR               0.0881      0.038      2.319      0.021         0.013     0.163\n",
      "PDO               0.0519      0.023      2.240      0.026         0.006     0.097\n",
      "Possesion         0.0080      0.031      0.255      0.799        -0.054     0.070\n",
      "Team_Value        0.6674      0.041     16.273      0.000         0.587     0.748\n",
      "AGE              -0.0736      0.021     -3.536      0.000        -0.114    -0.033\n",
      "FPPsq            -0.0453      0.024     -1.905      0.057        -0.092     0.001\n",
      "Country Score     0.0936      0.024      3.950      0.000         0.047     0.140\n",
      "==============================================================================\n",
      "Omnibus:                        1.911   Durbin-Watson:                   1.352\n",
      "Prob(Omnibus):                  0.385   Jarque-Bera (JB):                1.836\n",
      "Skew:                          -0.151   Prob(JB):                        0.399\n",
      "Kurtosis:                       3.009   Cond. No.                         6.33\n",
      "==============================================================================\n",
      "\n",
      "Warnings:\n",
      "[1] Standard Errors assume that the covariance matrix of the errors is correctly specified.\n"
     ]
    }
   ],
   "source": [
    "case_2_constant = sm.add_constant(case_2)\n",
    "model = sm.OLS(target, case_2_constant)\n",
    "result = model.fit()\n",
    "print (result.summary())"
   ]
  },
  {
   "cell_type": "markdown",
   "metadata": {},
   "source": [
    "* STR, PDO, Possesion, Team_value, AGE, FPPsq, Country_Score를 Feature로 선택했을 경우\n",
    "\n",
    "    * R-squared(성능) 값은 0.680, 즉 이 모델은 68%정도 설명할 수 있다.\n",
    "    * Feature들의 p-value 값을 보면 Posession과 FPPsq는 이 모델에 영향을 주지 않는 변수로 나온다.\n",
    "    * 정규성을 따른다.\n",
    "    * 다중공선성이 발생하지 않는다.\n",
    "---\n",
    "\n",
    "=> 아직 만족스럽지 않아서 Feature들을 다시 선택해보고 분석해보자.   "
   ]
  },
  {
   "cell_type": "markdown",
   "metadata": {},
   "source": [
    "### 3- 3 (TSR, PDO, Pass_Success, Team_value, AGE, Country_Score) Feature로 선택\n",
    "### target = np.log(X['Pts'])"
   ]
  },
  {
   "cell_type": "code",
   "execution_count": 29,
   "metadata": {
    "collapsed": false
   },
   "outputs": [
    {
     "name": "stderr",
     "output_type": "stream",
     "text": [
      "/home/dockeruser/anaconda2/envs/gl-env/lib/python2.7/site-packages/sklearn/preprocessing/data.py:986: DeprecationWarning: Passing 1d arrays as data is deprecated in 0.17 and will raise ValueError in 0.19. Reshape your data either using X.reshape(-1, 1) if your data has a single feature or X.reshape(1, -1) if it contains a single sample.\n",
      "  warnings.warn(DEPRECATION_MSG_1D, DeprecationWarning)\n",
      "/home/dockeruser/anaconda2/envs/gl-env/lib/python2.7/site-packages/sklearn/preprocessing/data.py:1008: DeprecationWarning: Passing 1d arrays as data is deprecated in 0.17 and will raise ValueError in 0.19. Reshape your data either using X.reshape(-1, 1) if your data has a single feature or X.reshape(1, -1) if it contains a single sample.\n",
      "  warnings.warn(DEPRECATION_MSG_1D, DeprecationWarning)\n",
      "/home/dockeruser/anaconda2/envs/gl-env/lib/python2.7/site-packages/sklearn/preprocessing/data.py:986: DeprecationWarning: Passing 1d arrays as data is deprecated in 0.17 and will raise ValueError in 0.19. Reshape your data either using X.reshape(-1, 1) if your data has a single feature or X.reshape(1, -1) if it contains a single sample.\n",
      "  warnings.warn(DEPRECATION_MSG_1D, DeprecationWarning)\n",
      "/home/dockeruser/anaconda2/envs/gl-env/lib/python2.7/site-packages/sklearn/preprocessing/data.py:1037: DeprecationWarning: Passing 1d arrays as data is deprecated in 0.17 and will raise ValueError in 0.19. Reshape your data either using X.reshape(-1, 1) if your data has a single feature or X.reshape(1, -1) if it contains a single sample.\n",
      "  warnings.warn(DEPRECATION_MSG_1D, DeprecationWarning)\n",
      "/home/dockeruser/anaconda2/envs/gl-env/lib/python2.7/site-packages/sklearn/preprocessing/data.py:986: DeprecationWarning: Passing 1d arrays as data is deprecated in 0.17 and will raise ValueError in 0.19. Reshape your data either using X.reshape(-1, 1) if your data has a single feature or X.reshape(1, -1) if it contains a single sample.\n",
      "  warnings.warn(DEPRECATION_MSG_1D, DeprecationWarning)\n",
      "/home/dockeruser/anaconda2/envs/gl-env/lib/python2.7/site-packages/sklearn/preprocessing/data.py:1008: DeprecationWarning: Passing 1d arrays as data is deprecated in 0.17 and will raise ValueError in 0.19. Reshape your data either using X.reshape(-1, 1) if your data has a single feature or X.reshape(1, -1) if it contains a single sample.\n",
      "  warnings.warn(DEPRECATION_MSG_1D, DeprecationWarning)\n",
      "/home/dockeruser/anaconda2/envs/gl-env/lib/python2.7/site-packages/sklearn/preprocessing/data.py:986: DeprecationWarning: Passing 1d arrays as data is deprecated in 0.17 and will raise ValueError in 0.19. Reshape your data either using X.reshape(-1, 1) if your data has a single feature or X.reshape(1, -1) if it contains a single sample.\n",
      "  warnings.warn(DEPRECATION_MSG_1D, DeprecationWarning)\n",
      "/home/dockeruser/anaconda2/envs/gl-env/lib/python2.7/site-packages/sklearn/preprocessing/data.py:1037: DeprecationWarning: Passing 1d arrays as data is deprecated in 0.17 and will raise ValueError in 0.19. Reshape your data either using X.reshape(-1, 1) if your data has a single feature or X.reshape(1, -1) if it contains a single sample.\n",
      "  warnings.warn(DEPRECATION_MSG_1D, DeprecationWarning)\n"
     ]
    }
   ],
   "source": [
    "robust_tsr = robust_scale(dfX0['TSR'])\n",
    "robust_pdo = robust_scale(dfX0['PDO'])\n",
    "scale_Pass = scale(dfX0['Pass_Success'])\n",
    "log_T_V = np.log(dfX0['Team_Value'])\n",
    "scale_age = scale(dfX0['AGE'])\n",
    "scale_C_S = scale(dfX0['Country Score'])\n",
    "target = np.log(X['Pts'])"
   ]
  },
  {
   "cell_type": "code",
   "execution_count": 30,
   "metadata": {
    "collapsed": true
   },
   "outputs": [],
   "source": [
    "case3_array = np.array([robust_tsr, robust_pdo, scale_Pass, log_T_V, scale_age, scale_C_S]).T\n",
    "case_3 = pd.DataFrame(case3_array, columns = ['TSR', 'PDO', 'Pass_Success', 'Team_Value', \n",
    "                                              'AGE' ,'Country Score'])"
   ]
  },
  {
   "cell_type": "code",
   "execution_count": 31,
   "metadata": {
    "collapsed": false
   },
   "outputs": [
    {
     "name": "stdout",
     "output_type": "stream",
     "text": [
      "                            OLS Regression Results                            \n",
      "==============================================================================\n",
      "Dep. Variable:                    Pts   R-squared:                       0.678\n",
      "Model:                            OLS   Adj. R-squared:                  0.673\n",
      "Method:                 Least Squares   F-statistic:                     166.0\n",
      "Date:                Mon, 26 Dec 2016   Prob (F-statistic):          4.32e-113\n",
      "Time:                        06:22:59   Log-Likelihood:                -270.10\n",
      "No. Observations:                 481   AIC:                             554.2\n",
      "Df Residuals:                     474   BIC:                             583.4\n",
      "Df Model:                           6                                         \n",
      "Covariance Type:            nonrobust                                         \n",
      "=================================================================================\n",
      "                    coef    std err          t      P>|t|      [95.0% Conf. Int.]\n",
      "---------------------------------------------------------------------------------\n",
      "const             2.7539      0.054     51.296      0.000         2.648     2.859\n",
      "TSR              -0.1105      0.038     -2.935      0.004        -0.185    -0.037\n",
      "PDO               0.0457      0.024      1.883      0.060        -0.002     0.093\n",
      "Pass_Success      0.0387      0.026      1.485      0.138        -0.013     0.090\n",
      "Team_Value        0.7567      0.041     18.519      0.000         0.676     0.837\n",
      "AGE              -0.0880      0.021     -4.249      0.000        -0.129    -0.047\n",
      "Country Score     0.0654      0.024      2.767      0.006         0.019     0.112\n",
      "==============================================================================\n",
      "Omnibus:                        3.725   Durbin-Watson:                   1.306\n",
      "Prob(Omnibus):                  0.155   Jarque-Bera (JB):                3.792\n",
      "Skew:                          -0.212   Prob(JB):                        0.150\n",
      "Kurtosis:                       2.900   Cond. No.                         6.40\n",
      "==============================================================================\n",
      "\n",
      "Warnings:\n",
      "[1] Standard Errors assume that the covariance matrix of the errors is correctly specified.\n"
     ]
    }
   ],
   "source": [
    "case_3_constant = sm.add_constant(case_3)\n",
    "model = sm.OLS(target, case_3_constant)\n",
    "result = model.fit()\n",
    "print (result.summary())"
   ]
  },
  {
   "cell_type": "markdown",
   "metadata": {},
   "source": [
    "* TSR, PDO, Pass_Success, Team_value, AGE, Country_Score를 Feature로 선택했을 경우\n",
    "    * R-squared(성능)값은 0.678로 살짝 낮아졌다.\n",
    "    * Feature들의 p-value를 살펴보면 Pass_Success와 PDO가 이 모델에 영향을 주지 않는 변수이다.\n",
    "    * 정규성을 따른다.\n",
    "    * 다중공선성이 발생하지 않았다.\n",
    "    * 전체적으로 Feature들의 p-value가 점점 나아지고 있지만 아직 만족스럽지 못하다.\n",
    "---\n",
    "=> 다른 Feature들을 선택해보면서 계속 분석해보자.\n"
   ]
  },
  {
   "cell_type": "markdown",
   "metadata": {},
   "source": [
    "### 3- 4 (TSR, PDO, Team_value, AGE, FPPsq, Country_Score)를 Feature로 선택\n",
    "### target = np.log(X['Pts'])"
   ]
  },
  {
   "cell_type": "code",
   "execution_count": 32,
   "metadata": {
    "collapsed": false
   },
   "outputs": [
    {
     "name": "stderr",
     "output_type": "stream",
     "text": [
      "/home/dockeruser/anaconda2/envs/gl-env/lib/python2.7/site-packages/sklearn/preprocessing/data.py:986: DeprecationWarning: Passing 1d arrays as data is deprecated in 0.17 and will raise ValueError in 0.19. Reshape your data either using X.reshape(-1, 1) if your data has a single feature or X.reshape(1, -1) if it contains a single sample.\n",
      "  warnings.warn(DEPRECATION_MSG_1D, DeprecationWarning)\n",
      "/home/dockeruser/anaconda2/envs/gl-env/lib/python2.7/site-packages/sklearn/preprocessing/data.py:1008: DeprecationWarning: Passing 1d arrays as data is deprecated in 0.17 and will raise ValueError in 0.19. Reshape your data either using X.reshape(-1, 1) if your data has a single feature or X.reshape(1, -1) if it contains a single sample.\n",
      "  warnings.warn(DEPRECATION_MSG_1D, DeprecationWarning)\n",
      "/home/dockeruser/anaconda2/envs/gl-env/lib/python2.7/site-packages/sklearn/preprocessing/data.py:986: DeprecationWarning: Passing 1d arrays as data is deprecated in 0.17 and will raise ValueError in 0.19. Reshape your data either using X.reshape(-1, 1) if your data has a single feature or X.reshape(1, -1) if it contains a single sample.\n",
      "  warnings.warn(DEPRECATION_MSG_1D, DeprecationWarning)\n",
      "/home/dockeruser/anaconda2/envs/gl-env/lib/python2.7/site-packages/sklearn/preprocessing/data.py:1037: DeprecationWarning: Passing 1d arrays as data is deprecated in 0.17 and will raise ValueError in 0.19. Reshape your data either using X.reshape(-1, 1) if your data has a single feature or X.reshape(1, -1) if it contains a single sample.\n",
      "  warnings.warn(DEPRECATION_MSG_1D, DeprecationWarning)\n",
      "/home/dockeruser/anaconda2/envs/gl-env/lib/python2.7/site-packages/sklearn/preprocessing/data.py:986: DeprecationWarning: Passing 1d arrays as data is deprecated in 0.17 and will raise ValueError in 0.19. Reshape your data either using X.reshape(-1, 1) if your data has a single feature or X.reshape(1, -1) if it contains a single sample.\n",
      "  warnings.warn(DEPRECATION_MSG_1D, DeprecationWarning)\n",
      "/home/dockeruser/anaconda2/envs/gl-env/lib/python2.7/site-packages/sklearn/preprocessing/data.py:1008: DeprecationWarning: Passing 1d arrays as data is deprecated in 0.17 and will raise ValueError in 0.19. Reshape your data either using X.reshape(-1, 1) if your data has a single feature or X.reshape(1, -1) if it contains a single sample.\n",
      "  warnings.warn(DEPRECATION_MSG_1D, DeprecationWarning)\n",
      "/home/dockeruser/anaconda2/envs/gl-env/lib/python2.7/site-packages/sklearn/preprocessing/data.py:986: DeprecationWarning: Passing 1d arrays as data is deprecated in 0.17 and will raise ValueError in 0.19. Reshape your data either using X.reshape(-1, 1) if your data has a single feature or X.reshape(1, -1) if it contains a single sample.\n",
      "  warnings.warn(DEPRECATION_MSG_1D, DeprecationWarning)\n",
      "/home/dockeruser/anaconda2/envs/gl-env/lib/python2.7/site-packages/sklearn/preprocessing/data.py:1037: DeprecationWarning: Passing 1d arrays as data is deprecated in 0.17 and will raise ValueError in 0.19. Reshape your data either using X.reshape(-1, 1) if your data has a single feature or X.reshape(1, -1) if it contains a single sample.\n",
      "  warnings.warn(DEPRECATION_MSG_1D, DeprecationWarning)\n",
      "/home/dockeruser/anaconda2/envs/gl-env/lib/python2.7/site-packages/sklearn/preprocessing/data.py:986: DeprecationWarning: Passing 1d arrays as data is deprecated in 0.17 and will raise ValueError in 0.19. Reshape your data either using X.reshape(-1, 1) if your data has a single feature or X.reshape(1, -1) if it contains a single sample.\n",
      "  warnings.warn(DEPRECATION_MSG_1D, DeprecationWarning)\n",
      "/home/dockeruser/anaconda2/envs/gl-env/lib/python2.7/site-packages/sklearn/preprocessing/data.py:1008: DeprecationWarning: Passing 1d arrays as data is deprecated in 0.17 and will raise ValueError in 0.19. Reshape your data either using X.reshape(-1, 1) if your data has a single feature or X.reshape(1, -1) if it contains a single sample.\n",
      "  warnings.warn(DEPRECATION_MSG_1D, DeprecationWarning)\n",
      "/home/dockeruser/anaconda2/envs/gl-env/lib/python2.7/site-packages/sklearn/preprocessing/data.py:986: DeprecationWarning: Passing 1d arrays as data is deprecated in 0.17 and will raise ValueError in 0.19. Reshape your data either using X.reshape(-1, 1) if your data has a single feature or X.reshape(1, -1) if it contains a single sample.\n",
      "  warnings.warn(DEPRECATION_MSG_1D, DeprecationWarning)\n",
      "/home/dockeruser/anaconda2/envs/gl-env/lib/python2.7/site-packages/sklearn/preprocessing/data.py:1037: DeprecationWarning: Passing 1d arrays as data is deprecated in 0.17 and will raise ValueError in 0.19. Reshape your data either using X.reshape(-1, 1) if your data has a single feature or X.reshape(1, -1) if it contains a single sample.\n",
      "  warnings.warn(DEPRECATION_MSG_1D, DeprecationWarning)\n"
     ]
    }
   ],
   "source": [
    "robust_tsr = robust_scale(dfX0['TSR'])\n",
    "robust_pdo = robust_scale(dfX0['PDO'])\n",
    "log_T_V = np.log(dfX0['Team_Value'])\n",
    "scale_age = scale(dfX0['AGE'])\n",
    "robust_FPPsq = robust_scale(dfX0['FPPsq'])\n",
    "scale_C_S = scale(dfX0['Country Score'])\n",
    "target = np.log(X['Pts'])"
   ]
  },
  {
   "cell_type": "code",
   "execution_count": 33,
   "metadata": {
    "collapsed": true
   },
   "outputs": [],
   "source": [
    "case4_array = np.array([robust_tsr, robust_pdo, log_T_V, scale_age, robust_FPPsq, scale_C_S]).T\n",
    "case_4 = pd.DataFrame(case4_array, columns = ['TSR', 'PDO', 'Team_Value', \n",
    "                                              'AGE' ,'FPPsq','Country Score'])"
   ]
  },
  {
   "cell_type": "code",
   "execution_count": 34,
   "metadata": {
    "collapsed": false
   },
   "outputs": [
    {
     "name": "stdout",
     "output_type": "stream",
     "text": [
      "                            OLS Regression Results                            \n",
      "==============================================================================\n",
      "Dep. Variable:                    Pts   R-squared:                       0.678\n",
      "Model:                            OLS   Adj. R-squared:                  0.673\n",
      "Method:                 Least Squares   F-statistic:                     166.0\n",
      "Date:                Mon, 26 Dec 2016   Prob (F-statistic):          4.14e-113\n",
      "Time:                        06:23:28   Log-Likelihood:                -270.06\n",
      "No. Observations:                 481   AIC:                             554.1\n",
      "Df Residuals:                     474   BIC:                             583.4\n",
      "Df Model:                           6                                         \n",
      "Covariance Type:            nonrobust                                         \n",
      "=================================================================================\n",
      "                    coef    std err          t      P>|t|      [95.0% Conf. Int.]\n",
      "---------------------------------------------------------------------------------\n",
      "const             2.7238      0.050     54.254      0.000         2.625     2.822\n",
      "TSR              -0.0790      0.039     -2.011      0.045        -0.156    -0.002\n",
      "PDO               0.0549      0.023      2.354      0.019         0.009     0.101\n",
      "Team_Value        0.7817      0.038     20.817      0.000         0.708     0.855\n",
      "AGE              -0.0913      0.020     -4.460      0.000        -0.132    -0.051\n",
      "FPPsq            -0.0379      0.025     -1.514      0.131        -0.087     0.011\n",
      "Country Score     0.0610      0.023      2.651      0.008         0.016     0.106\n",
      "==============================================================================\n",
      "Omnibus:                        3.226   Durbin-Watson:                   1.359\n",
      "Prob(Omnibus):                  0.199   Jarque-Bera (JB):                3.248\n",
      "Skew:                          -0.199   Prob(JB):                        0.197\n",
      "Kurtosis:                       2.939   Cond. No.                         6.05\n",
      "==============================================================================\n",
      "\n",
      "Warnings:\n",
      "[1] Standard Errors assume that the covariance matrix of the errors is correctly specified.\n"
     ]
    }
   ],
   "source": [
    "case_4_constant = sm.add_constant(case_4)\n",
    "model = sm.OLS(target, case_4_constant)\n",
    "result = model.fit()\n",
    "print (result.summary())"
   ]
  },
  {
   "cell_type": "markdown",
   "metadata": {},
   "source": [
    "* TSR, PDO, Team_value, AGE, FPPsq, Country_Score를 Feature로 선택했을 경우\n",
    "\n",
    "    * R-squared(성능)값은 0.678로 이전과 동일하다.\n",
    "    * Feature들의 p-value를 살펴보면 FPPsq만 이 모델에서 영향을 주지 않는 변수로 나타난다.\n",
    "    * 전체적으로 성능이 좋아졌다.\n",
    "    * 정규성을 따르고 다중공선성이 나타나지 않았다.\n",
    "    \n",
    "---\n",
    "\n",
    "=> FPPsq를 빼보고 OLS분석을 해보자."
   ]
  },
  {
   "cell_type": "markdown",
   "metadata": {},
   "source": [
    "### 3- 5 TSR, PDO, Team_value, AGE,  Country_Score만 Feature 변수로 선택\n",
    "### target = np.log(X['Pts'])"
   ]
  },
  {
   "cell_type": "code",
   "execution_count": 35,
   "metadata": {
    "collapsed": false
   },
   "outputs": [
    {
     "name": "stderr",
     "output_type": "stream",
     "text": [
      "/home/dockeruser/anaconda2/envs/gl-env/lib/python2.7/site-packages/sklearn/preprocessing/data.py:986: DeprecationWarning: Passing 1d arrays as data is deprecated in 0.17 and will raise ValueError in 0.19. Reshape your data either using X.reshape(-1, 1) if your data has a single feature or X.reshape(1, -1) if it contains a single sample.\n",
      "  warnings.warn(DEPRECATION_MSG_1D, DeprecationWarning)\n",
      "/home/dockeruser/anaconda2/envs/gl-env/lib/python2.7/site-packages/sklearn/preprocessing/data.py:1008: DeprecationWarning: Passing 1d arrays as data is deprecated in 0.17 and will raise ValueError in 0.19. Reshape your data either using X.reshape(-1, 1) if your data has a single feature or X.reshape(1, -1) if it contains a single sample.\n",
      "  warnings.warn(DEPRECATION_MSG_1D, DeprecationWarning)\n",
      "/home/dockeruser/anaconda2/envs/gl-env/lib/python2.7/site-packages/sklearn/preprocessing/data.py:986: DeprecationWarning: Passing 1d arrays as data is deprecated in 0.17 and will raise ValueError in 0.19. Reshape your data either using X.reshape(-1, 1) if your data has a single feature or X.reshape(1, -1) if it contains a single sample.\n",
      "  warnings.warn(DEPRECATION_MSG_1D, DeprecationWarning)\n",
      "/home/dockeruser/anaconda2/envs/gl-env/lib/python2.7/site-packages/sklearn/preprocessing/data.py:1037: DeprecationWarning: Passing 1d arrays as data is deprecated in 0.17 and will raise ValueError in 0.19. Reshape your data either using X.reshape(-1, 1) if your data has a single feature or X.reshape(1, -1) if it contains a single sample.\n",
      "  warnings.warn(DEPRECATION_MSG_1D, DeprecationWarning)\n",
      "/home/dockeruser/anaconda2/envs/gl-env/lib/python2.7/site-packages/sklearn/preprocessing/data.py:986: DeprecationWarning: Passing 1d arrays as data is deprecated in 0.17 and will raise ValueError in 0.19. Reshape your data either using X.reshape(-1, 1) if your data has a single feature or X.reshape(1, -1) if it contains a single sample.\n",
      "  warnings.warn(DEPRECATION_MSG_1D, DeprecationWarning)\n",
      "/home/dockeruser/anaconda2/envs/gl-env/lib/python2.7/site-packages/sklearn/preprocessing/data.py:1008: DeprecationWarning: Passing 1d arrays as data is deprecated in 0.17 and will raise ValueError in 0.19. Reshape your data either using X.reshape(-1, 1) if your data has a single feature or X.reshape(1, -1) if it contains a single sample.\n",
      "  warnings.warn(DEPRECATION_MSG_1D, DeprecationWarning)\n",
      "/home/dockeruser/anaconda2/envs/gl-env/lib/python2.7/site-packages/sklearn/preprocessing/data.py:986: DeprecationWarning: Passing 1d arrays as data is deprecated in 0.17 and will raise ValueError in 0.19. Reshape your data either using X.reshape(-1, 1) if your data has a single feature or X.reshape(1, -1) if it contains a single sample.\n",
      "  warnings.warn(DEPRECATION_MSG_1D, DeprecationWarning)\n",
      "/home/dockeruser/anaconda2/envs/gl-env/lib/python2.7/site-packages/sklearn/preprocessing/data.py:1037: DeprecationWarning: Passing 1d arrays as data is deprecated in 0.17 and will raise ValueError in 0.19. Reshape your data either using X.reshape(-1, 1) if your data has a single feature or X.reshape(1, -1) if it contains a single sample.\n",
      "  warnings.warn(DEPRECATION_MSG_1D, DeprecationWarning)\n"
     ]
    }
   ],
   "source": [
    "robust_tsr = robust_scale(dfX0['TSR'])\n",
    "robust_pdo = robust_scale(dfX0['PDO'])\n",
    "log_T_V = np.log(dfX0['Team_Value'])\n",
    "scale_age = scale(dfX0['AGE'])\n",
    "scale_C_S = scale(dfX0['Country Score'])\n",
    "target = np.log(X['Pts'])"
   ]
  },
  {
   "cell_type": "code",
   "execution_count": 36,
   "metadata": {
    "collapsed": true
   },
   "outputs": [],
   "source": [
    "case5_array = np.array([robust_tsr, robust_pdo, log_T_V, scale_age, scale_C_S]).T\n",
    "case_5 = pd.DataFrame(case5_array, columns = ['TSR', 'PDO', 'Team_Value', \n",
    "                                              'AGE' ,'Country Score'])"
   ]
  },
  {
   "cell_type": "code",
   "execution_count": 37,
   "metadata": {
    "collapsed": false
   },
   "outputs": [
    {
     "name": "stdout",
     "output_type": "stream",
     "text": [
      "                            OLS Regression Results                            \n",
      "==============================================================================\n",
      "Dep. Variable:                    Pts   R-squared:                       0.676\n",
      "Model:                            OLS   Adj. R-squared:                  0.673\n",
      "Method:                 Least Squares   F-statistic:                     198.2\n",
      "Date:                Mon, 26 Dec 2016   Prob (F-statistic):          8.72e-114\n",
      "Time:                        06:24:10   Log-Likelihood:                -271.22\n",
      "No. Observations:                 481   AIC:                             554.4\n",
      "Df Residuals:                     475   BIC:                             579.5\n",
      "Df Model:                           5                                         \n",
      "Covariance Type:            nonrobust                                         \n",
      "=================================================================================\n",
      "                    coef    std err          t      P>|t|      [95.0% Conf. Int.]\n",
      "---------------------------------------------------------------------------------\n",
      "const             2.7256      0.050     54.233      0.000         2.627     2.824\n",
      "TSR              -0.0993      0.037     -2.688      0.007        -0.172    -0.027\n",
      "PDO               0.0557      0.023      2.386      0.017         0.010     0.102\n",
      "Team_Value        0.7806      0.038     20.764      0.000         0.707     0.854\n",
      "AGE              -0.0931      0.020     -4.549      0.000        -0.133    -0.053\n",
      "Country Score     0.0562      0.023      2.462      0.014         0.011     0.101\n",
      "==============================================================================\n",
      "Omnibus:                        3.774   Durbin-Watson:                   1.319\n",
      "Prob(Omnibus):                  0.152   Jarque-Bera (JB):                3.832\n",
      "Skew:                          -0.214   Prob(JB):                        0.147\n",
      "Kurtosis:                       2.911   Cond. No.                         6.02\n",
      "==============================================================================\n",
      "\n",
      "Warnings:\n",
      "[1] Standard Errors assume that the covariance matrix of the errors is correctly specified.\n"
     ]
    }
   ],
   "source": [
    "case_5_constant = sm.add_constant(case_5)\n",
    "model = sm.OLS(target, case_5_constant)\n",
    "result = model.fit()\n",
    "print (result.summary())"
   ]
  },
  {
   "cell_type": "markdown",
   "metadata": {},
   "source": [
    "* TSR, PDO, Team_value, AGE, Country_Score만 Feature 변수로 선택 했을 때\n",
    "\n",
    "    * R-squared 값은 약간 떨어지긴 했지만 \n",
    "      P-value도 안정적,\n",
    "      Omnibus, Jarque-Bera를 통한 정규성 검정에서도 무리없이 통과 된 것을 알 수 있다.\n",
    "      \n",
    "    * Condition No.도 6.02로 낮아져서 다중공선성이 발생하지 않은 것으로 볼 수 있다.\n",
    "    * Case 1~3-5까지 분석해본 결과 Case 3-5의 결과가 가장 나은 것을 알 수 있다.\n"
   ]
  },
  {
   "cell_type": "markdown",
   "metadata": {},
   "source": [
    "# Case4 : PCA 이용\n",
    "\n",
    "* Preprocessing Method : Scale"
   ]
  },
  {
   "cell_type": "markdown",
   "metadata": {},
   "source": [
    "### PCA 사용 목적\n",
    "* 각 변수들의 정보들을 최대한 이용하기 위해 PCA를 사용"
   ]
  },
  {
   "cell_type": "code",
   "execution_count": 38,
   "metadata": {
    "collapsed": false
   },
   "outputs": [
    {
     "data": {
      "text/html": [
       "<div>\n",
       "<table border=\"1\" class=\"dataframe\">\n",
       "  <thead>\n",
       "    <tr style=\"text-align: right;\">\n",
       "      <th></th>\n",
       "      <th>TSR</th>\n",
       "      <th>STR</th>\n",
       "      <th>PDO</th>\n",
       "      <th>Pass_Success</th>\n",
       "      <th>Possesion</th>\n",
       "      <th>Team_Value</th>\n",
       "      <th>AGE</th>\n",
       "      <th>FPPsq</th>\n",
       "      <th>Country Score</th>\n",
       "      <th>Rating</th>\n",
       "    </tr>\n",
       "  </thead>\n",
       "  <tbody>\n",
       "    <tr>\n",
       "      <th>0</th>\n",
       "      <td>0.628058</td>\n",
       "      <td>0.611384</td>\n",
       "      <td>1052.258</td>\n",
       "      <td>0.800789</td>\n",
       "      <td>0.581842</td>\n",
       "      <td>11.00</td>\n",
       "      <td>25.0</td>\n",
       "      <td>0.666667</td>\n",
       "      <td>79.499</td>\n",
       "      <td>7.19</td>\n",
       "    </tr>\n",
       "    <tr>\n",
       "      <th>1</th>\n",
       "      <td>0.680405</td>\n",
       "      <td>0.720911</td>\n",
       "      <td>1035.715</td>\n",
       "      <td>0.737797</td>\n",
       "      <td>0.615692</td>\n",
       "      <td>15.85</td>\n",
       "      <td>26.8</td>\n",
       "      <td>0.714286</td>\n",
       "      <td>79.499</td>\n",
       "      <td>7.30</td>\n",
       "    </tr>\n",
       "    <tr>\n",
       "      <th>2</th>\n",
       "      <td>0.629660</td>\n",
       "      <td>0.620096</td>\n",
       "      <td>1018.346</td>\n",
       "      <td>0.809211</td>\n",
       "      <td>0.597632</td>\n",
       "      <td>6.24</td>\n",
       "      <td>21.7</td>\n",
       "      <td>0.688889</td>\n",
       "      <td>79.499</td>\n",
       "      <td>7.17</td>\n",
       "    </tr>\n",
       "    <tr>\n",
       "      <th>3</th>\n",
       "      <td>0.561334</td>\n",
       "      <td>0.567709</td>\n",
       "      <td>1026.935</td>\n",
       "      <td>0.759474</td>\n",
       "      <td>0.522105</td>\n",
       "      <td>6.08</td>\n",
       "      <td>23.3</td>\n",
       "      <td>0.487805</td>\n",
       "      <td>79.499</td>\n",
       "      <td>7.19</td>\n",
       "    </tr>\n",
       "    <tr>\n",
       "      <th>4</th>\n",
       "      <td>0.606972</td>\n",
       "      <td>0.546114</td>\n",
       "      <td>1005.435</td>\n",
       "      <td>0.777368</td>\n",
       "      <td>0.585789</td>\n",
       "      <td>11.22</td>\n",
       "      <td>24.4</td>\n",
       "      <td>0.800000</td>\n",
       "      <td>79.499</td>\n",
       "      <td>7.04</td>\n",
       "    </tr>\n",
       "  </tbody>\n",
       "</table>\n",
       "</div>"
      ],
      "text/plain": [
       "        TSR       STR       PDO  Pass_Success  Possesion  Team_Value   AGE  \\\n",
       "0  0.628058  0.611384  1052.258      0.800789   0.581842       11.00  25.0   \n",
       "1  0.680405  0.720911  1035.715      0.737797   0.615692       15.85  26.8   \n",
       "2  0.629660  0.620096  1018.346      0.809211   0.597632        6.24  21.7   \n",
       "3  0.561334  0.567709  1026.935      0.759474   0.522105        6.08  23.3   \n",
       "4  0.606972  0.546114  1005.435      0.777368   0.585789       11.22  24.4   \n",
       "\n",
       "      FPPsq  Country Score  Rating  \n",
       "0  0.666667         79.499    7.19  \n",
       "1  0.714286         79.499    7.30  \n",
       "2  0.688889         79.499    7.17  \n",
       "3  0.487805         79.499    7.19  \n",
       "4  0.800000         79.499    7.04  "
      ]
     },
     "execution_count": 38,
     "metadata": {},
     "output_type": "execute_result"
    }
   ],
   "source": [
    "# Scale\n",
    "Scale_data = scale(dfX0)\n",
    "dfX0.head()"
   ]
  },
  {
   "cell_type": "code",
   "execution_count": 39,
   "metadata": {
    "collapsed": false
   },
   "outputs": [
    {
     "data": {
      "image/png": "[encoded data removed]",
      "text/plain": [
       "<matplotlib.figure.Figure at 0x7f7b4fe28990>"
      ]
     },
     "metadata": {},
     "output_type": "display_data"
    }
   ],
   "source": [
    "# 성분수의 결정\n",
    "A = np.array(Scale_data) \n",
    "pca = PCA().fit(A)\n",
    "var = pca.explained_variance_\n",
    "cmap = sns.color_palette()\n",
    "plt.bar(np.arange(1,len(var)+1), var/np.sum(var), align=\"center\", color=cmap[0])\n",
    "plt.step(np.arange(1,len(var)+1), np.cumsum(var)/np.sum(var), where=\"mid\", color=cmap[1])\n",
    "plt.show()\n",
    "# PC5 까지 성분수 결정"
   ]
  },
  {
   "cell_type": "code",
   "execution_count": 40,
   "metadata": {
    "collapsed": false
   },
   "outputs": [
    {
     "name": "stdout",
     "output_type": "stream",
     "text": [
      "0.851989243246\n"
     ]
    }
   ],
   "source": [
    "# 성분수들의 결정계수들의 합 : 0.8이상이면 분석이 가능하다고 가정하에 진행\n",
    "pca = PCA(n_components=5).fit(A)\n",
    "k = (pca.explained_variance_ratio_) \n",
    "print (k[:5].sum())"
   ]
  },
  {
   "cell_type": "code",
   "execution_count": 41,
   "metadata": {
    "collapsed": false
   },
   "outputs": [
    {
     "data": {
      "text/html": [
       "<div>\n",
       "<table border=\"1\" class=\"dataframe\">\n",
       "  <thead>\n",
       "    <tr style=\"text-align: right;\">\n",
       "      <th></th>\n",
       "      <th>PC1</th>\n",
       "      <th>PC2</th>\n",
       "      <th>PC3</th>\n",
       "      <th>PC4</th>\n",
       "      <th>PC5</th>\n",
       "    </tr>\n",
       "  </thead>\n",
       "  <tbody>\n",
       "    <tr>\n",
       "      <th>TSR</th>\n",
       "      <td>0.320913</td>\n",
       "      <td>-0.276918</td>\n",
       "      <td>-0.444801</td>\n",
       "      <td>0.079760</td>\n",
       "      <td>-0.086319</td>\n",
       "    </tr>\n",
       "    <tr>\n",
       "      <th>STR</th>\n",
       "      <td>0.411223</td>\n",
       "      <td>0.162802</td>\n",
       "      <td>-0.016865</td>\n",
       "      <td>0.144534</td>\n",
       "      <td>-0.174635</td>\n",
       "    </tr>\n",
       "    <tr>\n",
       "      <th>PDO</th>\n",
       "      <td>0.208648</td>\n",
       "      <td>0.294922</td>\n",
       "      <td>0.517871</td>\n",
       "      <td>-0.228252</td>\n",
       "      <td>0.601846</td>\n",
       "    </tr>\n",
       "    <tr>\n",
       "      <th>Pass_Success</th>\n",
       "      <td>0.394824</td>\n",
       "      <td>0.138201</td>\n",
       "      <td>-0.096569</td>\n",
       "      <td>0.117614</td>\n",
       "      <td>0.151686</td>\n",
       "    </tr>\n",
       "    <tr>\n",
       "      <th>Possesion</th>\n",
       "      <td>0.420964</td>\n",
       "      <td>0.145239</td>\n",
       "      <td>-0.062862</td>\n",
       "      <td>0.146547</td>\n",
       "      <td>-0.028692</td>\n",
       "    </tr>\n",
       "    <tr>\n",
       "      <th>Team_Value</th>\n",
       "      <td>0.400406</td>\n",
       "      <td>-0.214424</td>\n",
       "      <td>0.176314</td>\n",
       "      <td>-0.038025</td>\n",
       "      <td>-0.177763</td>\n",
       "    </tr>\n",
       "    <tr>\n",
       "      <th>AGE</th>\n",
       "      <td>-0.011769</td>\n",
       "      <td>-0.445354</td>\n",
       "      <td>0.385594</td>\n",
       "      <td>0.768908</td>\n",
       "      <td>0.198709</td>\n",
       "    </tr>\n",
       "    <tr>\n",
       "      <th>FPPsq</th>\n",
       "      <td>0.136733</td>\n",
       "      <td>-0.504761</td>\n",
       "      <td>-0.351397</td>\n",
       "      <td>-0.286494</td>\n",
       "      <td>0.605112</td>\n",
       "    </tr>\n",
       "    <tr>\n",
       "      <th>Country Score</th>\n",
       "      <td>0.087044</td>\n",
       "      <td>-0.511256</td>\n",
       "      <td>0.450046</td>\n",
       "      <td>-0.446360</td>\n",
       "      <td>-0.349106</td>\n",
       "    </tr>\n",
       "    <tr>\n",
       "      <th>Rating</th>\n",
       "      <td>0.405640</td>\n",
       "      <td>0.095683</td>\n",
       "      <td>0.120872</td>\n",
       "      <td>-0.106581</td>\n",
       "      <td>-0.129930</td>\n",
       "    </tr>\n",
       "  </tbody>\n",
       "</table>\n",
       "</div>"
      ],
      "text/plain": [
       "                    PC1       PC2       PC3       PC4       PC5\n",
       "TSR            0.320913 -0.276918 -0.444801  0.079760 -0.086319\n",
       "STR            0.411223  0.162802 -0.016865  0.144534 -0.174635\n",
       "PDO            0.208648  0.294922  0.517871 -0.228252  0.601846\n",
       "Pass_Success   0.394824  0.138201 -0.096569  0.117614  0.151686\n",
       "Possesion      0.420964  0.145239 -0.062862  0.146547 -0.028692\n",
       "Team_Value     0.400406 -0.214424  0.176314 -0.038025 -0.177763\n",
       "AGE           -0.011769 -0.445354  0.385594  0.768908  0.198709\n",
       "FPPsq          0.136733 -0.504761 -0.351397 -0.286494  0.605112\n",
       "Country Score  0.087044 -0.511256  0.450046 -0.446360 -0.349106\n",
       "Rating         0.405640  0.095683  0.120872 -0.106581 -0.129930"
      ]
     },
     "execution_count": 41,
     "metadata": {},
     "output_type": "execute_result"
    }
   ],
   "source": [
    "#각 PC1, PC2, PC3, PC4, PC5의 고유벡터들을 나타내었다.\n",
    "pca.components_.T.shape\n",
    "soccer_PCA_analysis = pd.DataFrame(pca.components_.T, \n",
    "                                   columns = [\"PC1\", \"PC2\", \"PC3\", \"PC4\", \"PC5\"], \n",
    "                                   index = dfX0.columns)\n",
    "soccer_PCA_analysis"
   ]
  },
  {
   "cell_type": "code",
   "execution_count": 42,
   "metadata": {
    "collapsed": false
   },
   "outputs": [
    {
     "name": "stdout",
     "output_type": "stream",
     "text": [
      "                            OLS Regression Results                            \n",
      "==============================================================================\n",
      "Dep. Variable:                    dfy   R-squared:                       0.663\n",
      "Model:                            OLS   Adj. R-squared:                  0.660\n",
      "Method:                 Least Squares   F-statistic:                     187.1\n",
      "Date:                Mon, 26 Dec 2016   Prob (F-statistic):          7.97e-110\n",
      "Time:                        06:24:59   Log-Likelihood:                -2162.9\n",
      "No. Observations:                 481   AIC:                             4338.\n",
      "Df Residuals:                     475   BIC:                             4363.\n",
      "Df Model:                           5                                         \n",
      "Covariance Type:            nonrobust                                         \n",
      "==============================================================================\n",
      "                 coef    std err          t      P>|t|      [95.0% Conf. Int.]\n",
      "------------------------------------------------------------------------------\n",
      "Intercept     51.1599      0.996     51.362      0.000        49.203    53.117\n",
      "PC1           13.3795      0.483     27.704      0.000        12.430    14.328\n",
      "PC2           -4.1757      0.794     -5.259      0.000        -5.736    -2.616\n",
      "PC3            8.1448      0.934      8.721      0.000         6.310     9.980\n",
      "PC4           -5.7973      1.102     -5.260      0.000        -7.963    -3.631\n",
      "PC5           -7.0355      1.159     -6.068      0.000        -9.314    -4.757\n",
      "==============================================================================\n",
      "Omnibus:                        2.524   Durbin-Watson:                   1.431\n",
      "Prob(Omnibus):                  0.283   Jarque-Bera (JB):                2.420\n",
      "Skew:                           0.173   Prob(JB):                        0.298\n",
      "Kurtosis:                       3.027   Cond. No.                         2.40\n",
      "==============================================================================\n",
      "\n",
      "Warnings:\n",
      "[1] Standard Errors assume that the covariance matrix of the errors is correctly specified.\n"
     ]
    }
   ],
   "source": [
    "# PCA 분석으로 OLS Summary \n",
    "pca_s = PCA(5).fit_transform(A)\n",
    "T_features = pd.DataFrame(pca_s, columns = [\"PC1\",\"PC2\",\"PC3\",\"PC4\",\"PC5\"])\n",
    "regression = \"dfy ~ PC1 + PC2 + PC3 + PC4 + PC5\"\n",
    "model = sm.OLS.from_formula(regression, data = T_features)\n",
    "result = model.fit()\n",
    "\n",
    "print (result.summary())\n",
    "coef = np.array(result.params) # coef 만 출력"
   ]
  },
  {
   "cell_type": "markdown",
   "metadata": {
    "collapsed": true
   },
   "source": [
    "* PCA를 이용하여 OLS분석을 해본 결과\n",
    "\n",
    "    * R-squared(성능)은 0.663으로 약간 낮아지긴 했지만\n",
    "    * PC1~5까지 p-value 값도 안정적이고 정규성도 따른다.\n",
    "    * Condition No.도 2.40으로 Case 3-5에서 실험해보았던 모델보다 더 낮게 나왔다.\n",
    "    * 더 안정적인 모델이다."
   ]
  },
  {
   "cell_type": "code",
   "execution_count": null,
   "metadata": {
    "collapsed": true
   },
   "outputs": [],
   "source": []
  }
 ],
 "metadata": {
  "anaconda-cloud": {},
  "kernelspec": {
   "display_name": "Python [conda env:gl-env]",
   "language": "python",
   "name": "conda-env-gl-env-py"
  },
  "language_info": {
   "codemirror_mode": {
    "name": "ipython",
    "version": 2
   },
   "file_extension": ".py",
   "mimetype": "text/x-python",
   "name": "python",
   "nbconvert_exporter": "python",
   "pygments_lexer": "ipython2",
   "version": "2.7.11"
  }
 },
 "nbformat": 4,
 "nbformat_minor": 1
}
