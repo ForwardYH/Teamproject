{
 "cells": [
  {
   "cell_type": "markdown",
   "metadata": {},
   "source": [
    "## 유럽축구데이터를 기반으로 주요 유럽축구 클럽들에 대한 UEFA Coefficient 예측.\n",
    "* Smallproject in DSS-3 (김경수, 김용환, 전영호, 조일연)\n",
    "\n",
    "![Image](./Image.png)\n",
    "___\n",
    "\n",
    "### Why?\n",
    "* 유럽리그의 데이터로 UEFA Champions league/Europa League 순위를 예측할 수 있을까?\n",
    "* 경기력과 자본은 과연 성적과 직결될까?\n",
    "\n",
    "## Goal\n",
    "* 각 나라의 리그의 팀들의 데이터 **(input)** = > UEFA Champions league 순위예측 **(output)**\n",
    "\n",
    "## How?\n",
    "* 데이터 수집\n",
    "\n",
    "    * 축구 관련 통계 사이트 중 대표적인 사이트인 Whoscored, Transfermarkt에서 각 리그 데이터를 추출   **X**\n",
    "         - 영국, 이탈리아, 스페인, 프랑스, 독일, 러시아, 네덜란드, 터키 \n",
    "       \n",
    "    * UEFA 공식홈페이지에서 UEFA rankings for club competitions(16/17) 순위를 추출 **Y**\n",
    "    * 각 리그의 시즌별 평균을 X 값으로 처리\n",
    "    \n",
    "    \n",
    "* 변수 설명 \n",
    "    * category = NAT(국가), Season, Club_Name : 실제 사용되는 변수는 아님.\n",
    "    * features = **TSR, STR, PDO, Pass_Success, Possesion, Team_Value, AGE, FPPsq, Country Score, Rating**\n",
    "    * target = **Pts**\n",
    "\n",
    "\n",
    "      * TSR(Total Shots Ratio)     = 슈팅 / (슈팅 + 피슈팅)\n",
    "      * STR(Shots on Target Ratio) = 유효슈팅 / (유효슈팅 + 피유효슈팅)\n",
    "      * PDO = (sh%+sv%) x 1000 \n",
    "          * sh% = 득점 / 유효슈팅\n",
    "          * sv% = 1 - (실점 / 피유효슈팅)\n",
    "      * Pass_Success = 패스 성공률\n",
    "      * Possesion = 점유율\n",
    "      * Team_Value = 팀 가치\n",
    "      * AGE        = 평균 선수단 나이\n",
    "      * FPPsq = 외국인 선수 / 전체 스쿼드(1군 선수단 인원) -> 외국인선수 비율\n",
    "      * Country Score = 국가 점수\n",
    "      * Rating = 팀 평점\n",
    "      * Pts = 최근 5년치 유럽 Coefficient Points 합\n",
    "   \n",
    "* 분석 방법\n",
    "    * PCA를 이용한 linear regression\n",
    "                 \n",
    "            \n",
    "## < Workflow >\n",
    "* Data & Samples => Preprocessing => Model => leverage & Outlier => Model 평가 => 최종 성능평가 => 한계점\n"
   ]
  },
  {
   "cell_type": "code",
   "execution_count": null,
   "metadata": {
    "collapsed": true
   },
   "outputs": [],
   "source": []
  }
 ],
 "metadata": {
  "kernelspec": {
   "display_name": "Python 2",
   "language": "python",
   "name": "python2"
  },
  "language_info": {
   "codemirror_mode": {
    "name": "ipython",
    "version": 2
   },
   "file_extension": ".py",
   "mimetype": "text/x-python",
   "name": "python",
   "nbconvert_exporter": "python",
   "pygments_lexer": "ipython2",
   "version": "2.7.12"
  }
 },
 "nbformat": 4,
 "nbformat_minor": 1
}
